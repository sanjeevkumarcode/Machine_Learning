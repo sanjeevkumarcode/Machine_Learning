{
 "cells": [
  {
   "cell_type": "markdown",
   "id": "8c8b5cdc",
   "metadata": {},
   "source": [
    "# Algerian Forest Fire Dataset - Temperature Prediction"
   ]
  },
  {
   "attachments": {
    "th.jpg": {
     "image/jpeg": "[encoded data removed]"
    }
   },
   "cell_type": "markdown",
   "id": "d1575f73",
   "metadata": {},
   "source": [
    "![th.jpg](attachment:th.jpg)"
   ]
  },
  {
   "cell_type": "markdown",
   "id": "2db72ea0",
   "metadata": {},
   "source": [
    "## Problem Statement :-"
   ]
  },
  {
   "cell_type": "markdown",
   "id": "261ce453",
   "metadata": {},
   "source": [
    "The dataset is the collection of Algerian Forest Fire incidents with records of around 4 months. From this\n",
    "data obtain the sub data of weather observation and take the output as Rain like in what types of \n",
    "conditions are favourable for the rain to happen."
   ]
  },
  {
   "cell_type": "markdown",
   "id": "899ada16",
   "metadata": {},
   "source": [
    "## Data Collection :-"
   ]
  },
  {
   "cell_type": "markdown",
   "id": "8aad1df1",
   "metadata": {},
   "source": [
    "Dataset is available at https://archive.ics.uci.edu/ml/datasets/Algerian+Forest+Fires+Dataset++#.\n",
    "There are 14 columns and 247 rows in the dataset. The period from June 2012 to September 2012. "
   ]
  },
  {
   "cell_type": "markdown",
   "id": "48fd3f11",
   "metadata": {},
   "source": [
    "## Attribute Information :-"
   ]
  },
  {
   "cell_type": "markdown",
   "id": "6f1c5ec7",
   "metadata": {},
   "source": [
    "1. Date : (DD/MM/YYYY) Day, month ('june' to 'september'), year (2012)\n",
    "Weather data observations\n",
    "2. Temp : temperature noon (temperature max) in Celsius degrees: 22 to 42\n",
    "3. RH : Relative Humidity in %: 21 to 90\n",
    "4. Ws :Wind speed in km/h: 6 to 29\n",
    "5. Rain: total day in mm: 0 to 16.8\n",
    "FWI Components\n",
    "6. Fine Fuel Moisture Code (FFMC) index from the FWI system: 28.6 to 92.5\n",
    "7. Duff Moisture Code (DMC) index from the FWI system: 1.1 to 65.9\n",
    "8. Drought Code (DC) index from the FWI system: 7 to 220.4\n",
    "9. Initial Spread Index (ISI) index from the FWI system: 0 to 18.5\n",
    "10. Buildup Index (BUI) index from the FWI system: 1.1 to 68\n",
    "11. Fire Weather Index (FWI) Index: 0 to 31.1\n",
    "12. Classes: two classes, namely Fire and not Fire."
   ]
  },
  {
   "cell_type": "markdown",
   "id": "b3a0403c",
   "metadata": {},
   "source": [
    "## Importing required libraries"
   ]
  },
  {
   "cell_type": "code",
   "execution_count": 1,
   "id": "20b04078",
   "metadata": {},
   "outputs": [],
   "source": [
    "import pandas as pd\n",
    "import numpy as np\n",
    "import seaborn as sns\n",
    "import matplotlib.pyplot as plt\n",
    "import warnings\n",
    "warnings.filterwarnings(\"ignore\")\n",
    "%matplotlib inline"
   ]
  },
  {
   "cell_type": "markdown",
   "id": "267c50a6",
   "metadata": {},
   "source": [
    "### Data reading :-"
   ]
  },
  {
   "cell_type": "code",
   "execution_count": 2,
   "id": "bec9353a",
   "metadata": {},
   "outputs": [],
   "source": [
    "data = pd.read_csv('D:\\Algerian_forest_fires_dataset_UPDATE.csv')"
   ]
  },
  {
   "cell_type": "code",
   "execution_count": 3,
   "id": "0a81dfe9",
   "metadata": {},
   "outputs": [
    {
     "data": {
      "text/html": [
       "<div>\n",
       "<style scoped>\n",
       "    .dataframe tbody tr th:only-of-type {\n",
       "        vertical-align: middle;\n",
       "    }\n",
       "\n",
       "    .dataframe tbody tr th {\n",
       "        vertical-align: top;\n",
       "    }\n",
       "\n",
       "    .dataframe thead th {\n",
       "        text-align: right;\n",
       "    }\n",
       "</style>\n",
       "<table border=\"1\" class=\"dataframe\">\n",
       "  <thead>\n",
       "    <tr style=\"text-align: right;\">\n",
       "      <th></th>\n",
       "      <th>day</th>\n",
       "      <th>month</th>\n",
       "      <th>year</th>\n",
       "      <th>Temperature</th>\n",
       "      <th>RH</th>\n",
       "      <th>Ws</th>\n",
       "      <th>Rain</th>\n",
       "      <th>FFMC</th>\n",
       "      <th>DMC</th>\n",
       "      <th>DC</th>\n",
       "      <th>ISI</th>\n",
       "      <th>BUI</th>\n",
       "      <th>FWI</th>\n",
       "      <th>Classes</th>\n",
       "    </tr>\n",
       "  </thead>\n",
       "  <tbody>\n",
       "    <tr>\n",
       "      <th>0</th>\n",
       "      <td>1</td>\n",
       "      <td>6</td>\n",
       "      <td>2012</td>\n",
       "      <td>29</td>\n",
       "      <td>57</td>\n",
       "      <td>18</td>\n",
       "      <td>0</td>\n",
       "      <td>65.7</td>\n",
       "      <td>3.4</td>\n",
       "      <td>7.6</td>\n",
       "      <td>1.3</td>\n",
       "      <td>3.4</td>\n",
       "      <td>0.5</td>\n",
       "      <td>not fire</td>\n",
       "    </tr>\n",
       "    <tr>\n",
       "      <th>1</th>\n",
       "      <td>2</td>\n",
       "      <td>6</td>\n",
       "      <td>2012</td>\n",
       "      <td>29</td>\n",
       "      <td>61</td>\n",
       "      <td>13</td>\n",
       "      <td>1.3</td>\n",
       "      <td>64.4</td>\n",
       "      <td>4.1</td>\n",
       "      <td>7.6</td>\n",
       "      <td>1</td>\n",
       "      <td>3.9</td>\n",
       "      <td>0.4</td>\n",
       "      <td>not fire</td>\n",
       "    </tr>\n",
       "    <tr>\n",
       "      <th>2</th>\n",
       "      <td>3</td>\n",
       "      <td>6</td>\n",
       "      <td>2012</td>\n",
       "      <td>26</td>\n",
       "      <td>82</td>\n",
       "      <td>22</td>\n",
       "      <td>13.1</td>\n",
       "      <td>47.1</td>\n",
       "      <td>2.5</td>\n",
       "      <td>7.1</td>\n",
       "      <td>0.3</td>\n",
       "      <td>2.7</td>\n",
       "      <td>0.1</td>\n",
       "      <td>not fire</td>\n",
       "    </tr>\n",
       "    <tr>\n",
       "      <th>3</th>\n",
       "      <td>4</td>\n",
       "      <td>6</td>\n",
       "      <td>2012</td>\n",
       "      <td>25</td>\n",
       "      <td>89</td>\n",
       "      <td>13</td>\n",
       "      <td>2.5</td>\n",
       "      <td>28.6</td>\n",
       "      <td>1.3</td>\n",
       "      <td>6.9</td>\n",
       "      <td>0</td>\n",
       "      <td>1.7</td>\n",
       "      <td>0</td>\n",
       "      <td>not fire</td>\n",
       "    </tr>\n",
       "    <tr>\n",
       "      <th>4</th>\n",
       "      <td>5</td>\n",
       "      <td>6</td>\n",
       "      <td>2012</td>\n",
       "      <td>27</td>\n",
       "      <td>77</td>\n",
       "      <td>16</td>\n",
       "      <td>0</td>\n",
       "      <td>64.8</td>\n",
       "      <td>3</td>\n",
       "      <td>14.2</td>\n",
       "      <td>1.2</td>\n",
       "      <td>3.9</td>\n",
       "      <td>0.5</td>\n",
       "      <td>not fire</td>\n",
       "    </tr>\n",
       "    <tr>\n",
       "      <th>...</th>\n",
       "      <td>...</td>\n",
       "      <td>...</td>\n",
       "      <td>...</td>\n",
       "      <td>...</td>\n",
       "      <td>...</td>\n",
       "      <td>...</td>\n",
       "      <td>...</td>\n",
       "      <td>...</td>\n",
       "      <td>...</td>\n",
       "      <td>...</td>\n",
       "      <td>...</td>\n",
       "      <td>...</td>\n",
       "      <td>...</td>\n",
       "      <td>...</td>\n",
       "    </tr>\n",
       "    <tr>\n",
       "      <th>242</th>\n",
       "      <td>26</td>\n",
       "      <td>9</td>\n",
       "      <td>2012</td>\n",
       "      <td>30</td>\n",
       "      <td>65</td>\n",
       "      <td>14</td>\n",
       "      <td>0</td>\n",
       "      <td>85.4</td>\n",
       "      <td>16</td>\n",
       "      <td>44.5</td>\n",
       "      <td>4.5</td>\n",
       "      <td>16.9</td>\n",
       "      <td>6.5</td>\n",
       "      <td>fire</td>\n",
       "    </tr>\n",
       "    <tr>\n",
       "      <th>243</th>\n",
       "      <td>27</td>\n",
       "      <td>9</td>\n",
       "      <td>2012</td>\n",
       "      <td>28</td>\n",
       "      <td>87</td>\n",
       "      <td>15</td>\n",
       "      <td>4.4</td>\n",
       "      <td>41.1</td>\n",
       "      <td>6.5</td>\n",
       "      <td>8</td>\n",
       "      <td>0.1</td>\n",
       "      <td>6.2</td>\n",
       "      <td>0</td>\n",
       "      <td>not fire</td>\n",
       "    </tr>\n",
       "    <tr>\n",
       "      <th>244</th>\n",
       "      <td>28</td>\n",
       "      <td>9</td>\n",
       "      <td>2012</td>\n",
       "      <td>27</td>\n",
       "      <td>87</td>\n",
       "      <td>29</td>\n",
       "      <td>0.5</td>\n",
       "      <td>45.9</td>\n",
       "      <td>3.5</td>\n",
       "      <td>7.9</td>\n",
       "      <td>0.4</td>\n",
       "      <td>3.4</td>\n",
       "      <td>0.2</td>\n",
       "      <td>not fire</td>\n",
       "    </tr>\n",
       "    <tr>\n",
       "      <th>245</th>\n",
       "      <td>29</td>\n",
       "      <td>9</td>\n",
       "      <td>2012</td>\n",
       "      <td>24</td>\n",
       "      <td>54</td>\n",
       "      <td>18</td>\n",
       "      <td>0.1</td>\n",
       "      <td>79.7</td>\n",
       "      <td>4.3</td>\n",
       "      <td>15.2</td>\n",
       "      <td>1.7</td>\n",
       "      <td>5.1</td>\n",
       "      <td>0.7</td>\n",
       "      <td>not fire</td>\n",
       "    </tr>\n",
       "    <tr>\n",
       "      <th>246</th>\n",
       "      <td>30</td>\n",
       "      <td>9</td>\n",
       "      <td>2012</td>\n",
       "      <td>24</td>\n",
       "      <td>64</td>\n",
       "      <td>15</td>\n",
       "      <td>0.2</td>\n",
       "      <td>67.3</td>\n",
       "      <td>3.8</td>\n",
       "      <td>16.5</td>\n",
       "      <td>1.2</td>\n",
       "      <td>4.8</td>\n",
       "      <td>0.5</td>\n",
       "      <td>not fire</td>\n",
       "    </tr>\n",
       "  </tbody>\n",
       "</table>\n",
       "<p>247 rows × 14 columns</p>\n",
       "</div>"
      ],
      "text/plain": [
       "    day month  year Temperature  RH  Ws Rain   FFMC  DMC    DC  ISI   BUI  \\\n",
       "0     1     6  2012          29  57  18     0  65.7  3.4   7.6  1.3   3.4   \n",
       "1     2     6  2012          29  61  13   1.3  64.4  4.1   7.6    1   3.9   \n",
       "2     3     6  2012          26  82  22  13.1  47.1  2.5   7.1  0.3   2.7   \n",
       "3     4     6  2012          25  89  13   2.5  28.6  1.3   6.9    0   1.7   \n",
       "4     5     6  2012          27  77  16     0  64.8    3  14.2  1.2   3.9   \n",
       "..   ..   ...   ...         ...  ..  ..   ...   ...  ...   ...  ...   ...   \n",
       "242  26     9  2012          30  65  14     0  85.4   16  44.5  4.5  16.9   \n",
       "243  27     9  2012          28  87  15   4.4  41.1  6.5     8  0.1   6.2   \n",
       "244  28     9  2012          27  87  29   0.5  45.9  3.5   7.9  0.4   3.4   \n",
       "245  29     9  2012          24  54  18   0.1  79.7  4.3  15.2  1.7   5.1   \n",
       "246  30     9  2012          24  64  15   0.2  67.3  3.8  16.5  1.2   4.8   \n",
       "\n",
       "     FWI     Classes    \n",
       "0    0.5   not fire     \n",
       "1    0.4   not fire     \n",
       "2    0.1   not fire     \n",
       "3      0   not fire     \n",
       "4    0.5   not fire     \n",
       "..   ...           ...  \n",
       "242  6.5       fire     \n",
       "243    0   not fire     \n",
       "244  0.2   not fire     \n",
       "245  0.7   not fire     \n",
       "246  0.5  not fire      \n",
       "\n",
       "[247 rows x 14 columns]"
      ]
     },
     "execution_count": 3,
     "metadata": {},
     "output_type": "execute_result"
    }
   ],
   "source": [
    "data"
   ]
  },
  {
   "cell_type": "markdown",
   "id": "fddce6bd",
   "metadata": {},
   "source": [
    "### Shape of dataset(How many rows and columns)."
   ]
  },
  {
   "cell_type": "code",
   "execution_count": 4,
   "id": "1e3c9379",
   "metadata": {},
   "outputs": [
    {
     "data": {
      "text/plain": [
       "(247, 14)"
      ]
     },
     "execution_count": 4,
     "metadata": {},
     "output_type": "execute_result"
    }
   ],
   "source": [
    "data.shape"
   ]
  },
  {
   "cell_type": "markdown",
   "id": "077446c6",
   "metadata": {},
   "source": [
    "## Data Cleaning"
   ]
  },
  {
   "cell_type": "markdown",
   "id": "17e6be72",
   "metadata": {},
   "source": [
    "#### Checking if any NaN values are in the dataset."
   ]
  },
  {
   "cell_type": "code",
   "execution_count": 5,
   "id": "971587f7",
   "metadata": {},
   "outputs": [
    {
     "data": {
      "text/html": [
       "<div>\n",
       "<style scoped>\n",
       "    .dataframe tbody tr th:only-of-type {\n",
       "        vertical-align: middle;\n",
       "    }\n",
       "\n",
       "    .dataframe tbody tr th {\n",
       "        vertical-align: top;\n",
       "    }\n",
       "\n",
       "    .dataframe thead th {\n",
       "        text-align: right;\n",
       "    }\n",
       "</style>\n",
       "<table border=\"1\" class=\"dataframe\">\n",
       "  <thead>\n",
       "    <tr style=\"text-align: right;\">\n",
       "      <th></th>\n",
       "      <th>day</th>\n",
       "      <th>month</th>\n",
       "      <th>year</th>\n",
       "      <th>Temperature</th>\n",
       "      <th>RH</th>\n",
       "      <th>Ws</th>\n",
       "      <th>Rain</th>\n",
       "      <th>FFMC</th>\n",
       "      <th>DMC</th>\n",
       "      <th>DC</th>\n",
       "      <th>ISI</th>\n",
       "      <th>BUI</th>\n",
       "      <th>FWI</th>\n",
       "      <th>Classes</th>\n",
       "    </tr>\n",
       "  </thead>\n",
       "  <tbody>\n",
       "    <tr>\n",
       "      <th>122</th>\n",
       "      <td>NaN</td>\n",
       "      <td>NaN</td>\n",
       "      <td>NaN</td>\n",
       "      <td>NaN</td>\n",
       "      <td>NaN</td>\n",
       "      <td>NaN</td>\n",
       "      <td>NaN</td>\n",
       "      <td>NaN</td>\n",
       "      <td>NaN</td>\n",
       "      <td>NaN</td>\n",
       "      <td>NaN</td>\n",
       "      <td>NaN</td>\n",
       "      <td>NaN</td>\n",
       "      <td>NaN</td>\n",
       "    </tr>\n",
       "    <tr>\n",
       "      <th>123</th>\n",
       "      <td>Sidi-Bel Abbes Region Dataset</td>\n",
       "      <td>NaN</td>\n",
       "      <td>NaN</td>\n",
       "      <td>NaN</td>\n",
       "      <td>NaN</td>\n",
       "      <td>NaN</td>\n",
       "      <td>NaN</td>\n",
       "      <td>NaN</td>\n",
       "      <td>NaN</td>\n",
       "      <td>NaN</td>\n",
       "      <td>NaN</td>\n",
       "      <td>NaN</td>\n",
       "      <td>NaN</td>\n",
       "      <td>NaN</td>\n",
       "    </tr>\n",
       "    <tr>\n",
       "      <th>168</th>\n",
       "      <td>14</td>\n",
       "      <td>7</td>\n",
       "      <td>2012</td>\n",
       "      <td>37</td>\n",
       "      <td>37</td>\n",
       "      <td>18</td>\n",
       "      <td>0.2</td>\n",
       "      <td>88.9</td>\n",
       "      <td>12.9</td>\n",
       "      <td>14.6 9</td>\n",
       "      <td>12.5</td>\n",
       "      <td>10.4</td>\n",
       "      <td>fire</td>\n",
       "      <td>NaN</td>\n",
       "    </tr>\n",
       "  </tbody>\n",
       "</table>\n",
       "</div>"
      ],
      "text/plain": [
       "                               day month  year Temperature   RH   Ws Rain   \\\n",
       "122                            NaN   NaN   NaN         NaN  NaN  NaN   NaN   \n",
       "123  Sidi-Bel Abbes Region Dataset   NaN   NaN         NaN  NaN  NaN   NaN   \n",
       "168                             14     7  2012          37   37   18   0.2   \n",
       "\n",
       "     FFMC   DMC      DC   ISI   BUI      FWI Classes    \n",
       "122   NaN   NaN     NaN   NaN   NaN      NaN       NaN  \n",
       "123   NaN   NaN     NaN   NaN   NaN      NaN       NaN  \n",
       "168  88.9  12.9  14.6 9  12.5  10.4  fire          NaN  "
      ]
     },
     "execution_count": 5,
     "metadata": {},
     "output_type": "execute_result"
    }
   ],
   "source": [
    "data.loc[data.isnull().any(axis=1)]"
   ]
  },
  {
   "cell_type": "code",
   "execution_count": 6,
   "id": "f628f29d",
   "metadata": {},
   "outputs": [
    {
     "data": {
      "text/html": [
       "<div>\n",
       "<style scoped>\n",
       "    .dataframe tbody tr th:only-of-type {\n",
       "        vertical-align: middle;\n",
       "    }\n",
       "\n",
       "    .dataframe tbody tr th {\n",
       "        vertical-align: top;\n",
       "    }\n",
       "\n",
       "    .dataframe thead th {\n",
       "        text-align: right;\n",
       "    }\n",
       "</style>\n",
       "<table border=\"1\" class=\"dataframe\">\n",
       "  <thead>\n",
       "    <tr style=\"text-align: right;\">\n",
       "      <th></th>\n",
       "      <th>day</th>\n",
       "      <th>month</th>\n",
       "      <th>year</th>\n",
       "      <th>Temperature</th>\n",
       "      <th>RH</th>\n",
       "      <th>Ws</th>\n",
       "      <th>Rain</th>\n",
       "      <th>FFMC</th>\n",
       "      <th>DMC</th>\n",
       "      <th>DC</th>\n",
       "      <th>ISI</th>\n",
       "      <th>BUI</th>\n",
       "      <th>FWI</th>\n",
       "      <th>Classes</th>\n",
       "    </tr>\n",
       "  </thead>\n",
       "  <tbody>\n",
       "    <tr>\n",
       "      <th>122</th>\n",
       "      <td>NaN</td>\n",
       "      <td>NaN</td>\n",
       "      <td>NaN</td>\n",
       "      <td>NaN</td>\n",
       "      <td>NaN</td>\n",
       "      <td>NaN</td>\n",
       "      <td>NaN</td>\n",
       "      <td>NaN</td>\n",
       "      <td>NaN</td>\n",
       "      <td>NaN</td>\n",
       "      <td>NaN</td>\n",
       "      <td>NaN</td>\n",
       "      <td>NaN</td>\n",
       "      <td>NaN</td>\n",
       "    </tr>\n",
       "    <tr>\n",
       "      <th>123</th>\n",
       "      <td>Sidi-Bel Abbes Region Dataset</td>\n",
       "      <td>NaN</td>\n",
       "      <td>NaN</td>\n",
       "      <td>NaN</td>\n",
       "      <td>NaN</td>\n",
       "      <td>NaN</td>\n",
       "      <td>NaN</td>\n",
       "      <td>NaN</td>\n",
       "      <td>NaN</td>\n",
       "      <td>NaN</td>\n",
       "      <td>NaN</td>\n",
       "      <td>NaN</td>\n",
       "      <td>NaN</td>\n",
       "      <td>NaN</td>\n",
       "    </tr>\n",
       "    <tr>\n",
       "      <th>124</th>\n",
       "      <td>day</td>\n",
       "      <td>month</td>\n",
       "      <td>year</td>\n",
       "      <td>Temperature</td>\n",
       "      <td>RH</td>\n",
       "      <td>Ws</td>\n",
       "      <td>Rain</td>\n",
       "      <td>FFMC</td>\n",
       "      <td>DMC</td>\n",
       "      <td>DC</td>\n",
       "      <td>ISI</td>\n",
       "      <td>BUI</td>\n",
       "      <td>FWI</td>\n",
       "      <td>Classes</td>\n",
       "    </tr>\n",
       "    <tr>\n",
       "      <th>125</th>\n",
       "      <td>1</td>\n",
       "      <td>6</td>\n",
       "      <td>2012</td>\n",
       "      <td>32</td>\n",
       "      <td>71</td>\n",
       "      <td>12</td>\n",
       "      <td>0.7</td>\n",
       "      <td>57.1</td>\n",
       "      <td>2.5</td>\n",
       "      <td>8.2</td>\n",
       "      <td>0.6</td>\n",
       "      <td>2.8</td>\n",
       "      <td>0.2</td>\n",
       "      <td>not fire</td>\n",
       "    </tr>\n",
       "    <tr>\n",
       "      <th>126</th>\n",
       "      <td>2</td>\n",
       "      <td>6</td>\n",
       "      <td>2012</td>\n",
       "      <td>30</td>\n",
       "      <td>73</td>\n",
       "      <td>13</td>\n",
       "      <td>4</td>\n",
       "      <td>55.7</td>\n",
       "      <td>2.7</td>\n",
       "      <td>7.8</td>\n",
       "      <td>0.6</td>\n",
       "      <td>2.9</td>\n",
       "      <td>0.2</td>\n",
       "      <td>not fire</td>\n",
       "    </tr>\n",
       "  </tbody>\n",
       "</table>\n",
       "</div>"
      ],
      "text/plain": [
       "                               day  month  year  Temperature   RH   Ws  Rain   \\\n",
       "122                            NaN    NaN   NaN          NaN  NaN  NaN    NaN   \n",
       "123  Sidi-Bel Abbes Region Dataset    NaN   NaN          NaN  NaN  NaN    NaN   \n",
       "124                            day  month  year  Temperature   RH   Ws  Rain    \n",
       "125                              1      6  2012           32   71   12    0.7   \n",
       "126                              2      6  2012           30   73   13      4   \n",
       "\n",
       "     FFMC  DMC   DC  ISI  BUI  FWI    Classes    \n",
       "122   NaN  NaN  NaN  NaN  NaN  NaN          NaN  \n",
       "123   NaN  NaN  NaN  NaN  NaN  NaN          NaN  \n",
       "124  FFMC  DMC   DC  ISI  BUI  FWI    Classes    \n",
       "125  57.1  2.5  8.2  0.6  2.8  0.2  not fire     \n",
       "126  55.7  2.7  7.8  0.6  2.9  0.2  not fire     "
      ]
     },
     "execution_count": 6,
     "metadata": {},
     "output_type": "execute_result"
    }
   ],
   "source": [
    "data.loc[122:].head()"
   ]
  },
  {
   "cell_type": "code",
   "execution_count": 7,
   "id": "1cec6df9",
   "metadata": {},
   "outputs": [],
   "source": [
    "data.drop([122,123,124,168],axis=0,inplace=True)"
   ]
  },
  {
   "cell_type": "code",
   "execution_count": 8,
   "id": "9ccd3f8e",
   "metadata": {},
   "outputs": [
    {
     "data": {
      "text/plain": [
       "day            0\n",
       "month          0\n",
       "year           0\n",
       "Temperature    0\n",
       " RH            0\n",
       " Ws            0\n",
       "Rain           0\n",
       "FFMC           0\n",
       "DMC            0\n",
       "DC             0\n",
       "ISI            0\n",
       "BUI            0\n",
       "FWI            0\n",
       "Classes        0\n",
       "dtype: int64"
      ]
     },
     "execution_count": 8,
     "metadata": {},
     "output_type": "execute_result"
    }
   ],
   "source": [
    "data.isnull().sum()"
   ]
  },
  {
   "cell_type": "code",
   "execution_count": 9,
   "id": "49f9a7c4",
   "metadata": {},
   "outputs": [
    {
     "data": {
      "text/plain": [
       "(243, 14)"
      ]
     },
     "execution_count": 9,
     "metadata": {},
     "output_type": "execute_result"
    }
   ],
   "source": [
    "data.shape"
   ]
  },
  {
   "cell_type": "raw",
   "id": "cd9e1519",
   "metadata": {},
   "source": [
    "From the above result, We can easily analyze that There are no missing values."
   ]
  },
  {
   "cell_type": "markdown",
   "id": "b93af6cd",
   "metadata": {},
   "source": [
    "### Columns of dataset :-"
   ]
  },
  {
   "cell_type": "code",
   "execution_count": 10,
   "id": "4441a859",
   "metadata": {},
   "outputs": [
    {
     "data": {
      "text/plain": [
       "Index(['day', 'month', 'year', 'Temperature', ' RH', ' Ws', 'Rain ', 'FFMC',\n",
       "       'DMC', 'DC', 'ISI', 'BUI', 'FWI', 'Classes  '],\n",
       "      dtype='object')"
      ]
     },
     "execution_count": 10,
     "metadata": {},
     "output_type": "execute_result"
    }
   ],
   "source": [
    "data.columns"
   ]
  },
  {
   "cell_type": "code",
   "execution_count": 11,
   "id": "bb32533c",
   "metadata": {},
   "outputs": [
    {
     "data": {
      "text/plain": [
       "[' RH', ' Ws', 'Rain ', 'Classes  ']"
      ]
     },
     "execution_count": 11,
     "metadata": {},
     "output_type": "execute_result"
    }
   ],
   "source": [
    "# There are some extra spaces in column name such as RH, WS, Classes.\n",
    "\n",
    "[x for x in data.columns if x.endswith(' ') or x.startswith(' ')]"
   ]
  },
  {
   "cell_type": "code",
   "execution_count": 12,
   "id": "5073b6f0",
   "metadata": {},
   "outputs": [
    {
     "data": {
      "text/plain": [
       "Index(['day', 'month', 'year', 'Temperature', 'RH', 'Ws', 'Rain', 'FFMC',\n",
       "       'DMC', 'DC', 'ISI', 'BUI', 'FWI', 'Classes'],\n",
       "      dtype='object')"
      ]
     },
     "execution_count": 12,
     "metadata": {},
     "output_type": "execute_result"
    }
   ],
   "source": [
    "# Remove extra spaces in column  names.\n",
    "\n",
    "data.columns = data.columns.str.strip()\n",
    "data.columns"
   ]
  },
  {
   "cell_type": "code",
   "execution_count": 13,
   "id": "5e210bf3",
   "metadata": {},
   "outputs": [],
   "source": [
    "# Creating a new column.\n",
    "data['date']=pd.to_datetime(data[['day','month','year']])"
   ]
  },
  {
   "cell_type": "code",
   "execution_count": 14,
   "id": "071c7c0d",
   "metadata": {},
   "outputs": [],
   "source": [
    "# Dropping day, month, year from dataset.\n",
    "data.drop(['day','month','year'],axis=1,inplace=True)"
   ]
  },
  {
   "cell_type": "code",
   "execution_count": 15,
   "id": "a24a4b02",
   "metadata": {},
   "outputs": [
    {
     "data": {
      "text/plain": [
       "Index(['Temperature', 'RH', 'Ws', 'Rain', 'FFMC', 'DMC', 'DC', 'ISI', 'BUI',\n",
       "       'FWI', 'Classes', 'date'],\n",
       "      dtype='object')"
      ]
     },
     "execution_count": 15,
     "metadata": {},
     "output_type": "execute_result"
    }
   ],
   "source": [
    "data.columns"
   ]
  },
  {
   "cell_type": "code",
   "execution_count": 16,
   "id": "eda567d8",
   "metadata": {},
   "outputs": [
    {
     "data": {
      "text/html": [
       "<div>\n",
       "<style scoped>\n",
       "    .dataframe tbody tr th:only-of-type {\n",
       "        vertical-align: middle;\n",
       "    }\n",
       "\n",
       "    .dataframe tbody tr th {\n",
       "        vertical-align: top;\n",
       "    }\n",
       "\n",
       "    .dataframe thead th {\n",
       "        text-align: right;\n",
       "    }\n",
       "</style>\n",
       "<table border=\"1\" class=\"dataframe\">\n",
       "  <thead>\n",
       "    <tr style=\"text-align: right;\">\n",
       "      <th></th>\n",
       "      <th>Temperature</th>\n",
       "      <th>RH</th>\n",
       "      <th>Ws</th>\n",
       "      <th>Rain</th>\n",
       "      <th>FFMC</th>\n",
       "      <th>DMC</th>\n",
       "      <th>DC</th>\n",
       "      <th>ISI</th>\n",
       "      <th>BUI</th>\n",
       "      <th>FWI</th>\n",
       "      <th>Classes</th>\n",
       "      <th>date</th>\n",
       "      <th>Region</th>\n",
       "    </tr>\n",
       "  </thead>\n",
       "  <tbody>\n",
       "    <tr>\n",
       "      <th>0</th>\n",
       "      <td>29</td>\n",
       "      <td>57</td>\n",
       "      <td>18</td>\n",
       "      <td>0</td>\n",
       "      <td>65.7</td>\n",
       "      <td>3.4</td>\n",
       "      <td>7.6</td>\n",
       "      <td>1.3</td>\n",
       "      <td>3.4</td>\n",
       "      <td>0.5</td>\n",
       "      <td>not fire</td>\n",
       "      <td>2012-06-01</td>\n",
       "      <td>0</td>\n",
       "    </tr>\n",
       "    <tr>\n",
       "      <th>1</th>\n",
       "      <td>29</td>\n",
       "      <td>61</td>\n",
       "      <td>13</td>\n",
       "      <td>1.3</td>\n",
       "      <td>64.4</td>\n",
       "      <td>4.1</td>\n",
       "      <td>7.6</td>\n",
       "      <td>1</td>\n",
       "      <td>3.9</td>\n",
       "      <td>0.4</td>\n",
       "      <td>not fire</td>\n",
       "      <td>2012-06-02</td>\n",
       "      <td>0</td>\n",
       "    </tr>\n",
       "    <tr>\n",
       "      <th>2</th>\n",
       "      <td>26</td>\n",
       "      <td>82</td>\n",
       "      <td>22</td>\n",
       "      <td>13.1</td>\n",
       "      <td>47.1</td>\n",
       "      <td>2.5</td>\n",
       "      <td>7.1</td>\n",
       "      <td>0.3</td>\n",
       "      <td>2.7</td>\n",
       "      <td>0.1</td>\n",
       "      <td>not fire</td>\n",
       "      <td>2012-06-03</td>\n",
       "      <td>0</td>\n",
       "    </tr>\n",
       "    <tr>\n",
       "      <th>3</th>\n",
       "      <td>25</td>\n",
       "      <td>89</td>\n",
       "      <td>13</td>\n",
       "      <td>2.5</td>\n",
       "      <td>28.6</td>\n",
       "      <td>1.3</td>\n",
       "      <td>6.9</td>\n",
       "      <td>0</td>\n",
       "      <td>1.7</td>\n",
       "      <td>0</td>\n",
       "      <td>not fire</td>\n",
       "      <td>2012-06-04</td>\n",
       "      <td>0</td>\n",
       "    </tr>\n",
       "    <tr>\n",
       "      <th>4</th>\n",
       "      <td>27</td>\n",
       "      <td>77</td>\n",
       "      <td>16</td>\n",
       "      <td>0</td>\n",
       "      <td>64.8</td>\n",
       "      <td>3</td>\n",
       "      <td>14.2</td>\n",
       "      <td>1.2</td>\n",
       "      <td>3.9</td>\n",
       "      <td>0.5</td>\n",
       "      <td>not fire</td>\n",
       "      <td>2012-06-05</td>\n",
       "      <td>0</td>\n",
       "    </tr>\n",
       "    <tr>\n",
       "      <th>...</th>\n",
       "      <td>...</td>\n",
       "      <td>...</td>\n",
       "      <td>...</td>\n",
       "      <td>...</td>\n",
       "      <td>...</td>\n",
       "      <td>...</td>\n",
       "      <td>...</td>\n",
       "      <td>...</td>\n",
       "      <td>...</td>\n",
       "      <td>...</td>\n",
       "      <td>...</td>\n",
       "      <td>...</td>\n",
       "      <td>...</td>\n",
       "    </tr>\n",
       "    <tr>\n",
       "      <th>242</th>\n",
       "      <td>30</td>\n",
       "      <td>65</td>\n",
       "      <td>14</td>\n",
       "      <td>0</td>\n",
       "      <td>85.4</td>\n",
       "      <td>16</td>\n",
       "      <td>44.5</td>\n",
       "      <td>4.5</td>\n",
       "      <td>16.9</td>\n",
       "      <td>6.5</td>\n",
       "      <td>fire</td>\n",
       "      <td>2012-09-26</td>\n",
       "      <td>1</td>\n",
       "    </tr>\n",
       "    <tr>\n",
       "      <th>243</th>\n",
       "      <td>28</td>\n",
       "      <td>87</td>\n",
       "      <td>15</td>\n",
       "      <td>4.4</td>\n",
       "      <td>41.1</td>\n",
       "      <td>6.5</td>\n",
       "      <td>8</td>\n",
       "      <td>0.1</td>\n",
       "      <td>6.2</td>\n",
       "      <td>0</td>\n",
       "      <td>not fire</td>\n",
       "      <td>2012-09-27</td>\n",
       "      <td>0</td>\n",
       "    </tr>\n",
       "    <tr>\n",
       "      <th>244</th>\n",
       "      <td>27</td>\n",
       "      <td>87</td>\n",
       "      <td>29</td>\n",
       "      <td>0.5</td>\n",
       "      <td>45.9</td>\n",
       "      <td>3.5</td>\n",
       "      <td>7.9</td>\n",
       "      <td>0.4</td>\n",
       "      <td>3.4</td>\n",
       "      <td>0.2</td>\n",
       "      <td>not fire</td>\n",
       "      <td>2012-09-28</td>\n",
       "      <td>0</td>\n",
       "    </tr>\n",
       "    <tr>\n",
       "      <th>245</th>\n",
       "      <td>24</td>\n",
       "      <td>54</td>\n",
       "      <td>18</td>\n",
       "      <td>0.1</td>\n",
       "      <td>79.7</td>\n",
       "      <td>4.3</td>\n",
       "      <td>15.2</td>\n",
       "      <td>1.7</td>\n",
       "      <td>5.1</td>\n",
       "      <td>0.7</td>\n",
       "      <td>not fire</td>\n",
       "      <td>2012-09-29</td>\n",
       "      <td>0</td>\n",
       "    </tr>\n",
       "    <tr>\n",
       "      <th>246</th>\n",
       "      <td>24</td>\n",
       "      <td>64</td>\n",
       "      <td>15</td>\n",
       "      <td>0.2</td>\n",
       "      <td>67.3</td>\n",
       "      <td>3.8</td>\n",
       "      <td>16.5</td>\n",
       "      <td>1.2</td>\n",
       "      <td>4.8</td>\n",
       "      <td>0.5</td>\n",
       "      <td>not fire</td>\n",
       "      <td>2012-09-30</td>\n",
       "      <td>0</td>\n",
       "    </tr>\n",
       "  </tbody>\n",
       "</table>\n",
       "<p>243 rows × 13 columns</p>\n",
       "</div>"
      ],
      "text/plain": [
       "    Temperature  RH  Ws  Rain  FFMC  DMC    DC  ISI   BUI  FWI       Classes  \\\n",
       "0            29  57  18     0  65.7  3.4   7.6  1.3   3.4  0.5   not fire      \n",
       "1            29  61  13   1.3  64.4  4.1   7.6    1   3.9  0.4   not fire      \n",
       "2            26  82  22  13.1  47.1  2.5   7.1  0.3   2.7  0.1   not fire      \n",
       "3            25  89  13   2.5  28.6  1.3   6.9    0   1.7    0   not fire      \n",
       "4            27  77  16     0  64.8    3  14.2  1.2   3.9  0.5   not fire      \n",
       "..          ...  ..  ..   ...   ...  ...   ...  ...   ...  ...           ...   \n",
       "242          30  65  14     0  85.4   16  44.5  4.5  16.9  6.5       fire      \n",
       "243          28  87  15   4.4  41.1  6.5     8  0.1   6.2    0   not fire      \n",
       "244          27  87  29   0.5  45.9  3.5   7.9  0.4   3.4  0.2   not fire      \n",
       "245          24  54  18   0.1  79.7  4.3  15.2  1.7   5.1  0.7   not fire      \n",
       "246          24  64  15   0.2  67.3  3.8  16.5  1.2   4.8  0.5  not fire       \n",
       "\n",
       "          date  Region  \n",
       "0   2012-06-01       0  \n",
       "1   2012-06-02       0  \n",
       "2   2012-06-03       0  \n",
       "3   2012-06-04       0  \n",
       "4   2012-06-05       0  \n",
       "..         ...     ...  \n",
       "242 2012-09-26       1  \n",
       "243 2012-09-27       0  \n",
       "244 2012-09-28       0  \n",
       "245 2012-09-29       0  \n",
       "246 2012-09-30       0  \n",
       "\n",
       "[243 rows x 13 columns]"
      ]
     },
     "execution_count": 16,
     "metadata": {},
     "output_type": "execute_result"
    }
   ],
   "source": [
    "# Creating Region column.\n",
    "data['Region']=0\n",
    "for i in range(len(data)):\n",
    "    if i<122:\n",
    "        data['Region'][i]=0\n",
    "    else:\n",
    "        data['Region'][i]=1\n",
    "data  "
   ]
  },
  {
   "cell_type": "code",
   "execution_count": 17,
   "id": "90eb3ac8",
   "metadata": {},
   "outputs": [
    {
     "data": {
      "text/html": [
       "<div>\n",
       "<style scoped>\n",
       "    .dataframe tbody tr th:only-of-type {\n",
       "        vertical-align: middle;\n",
       "    }\n",
       "\n",
       "    .dataframe tbody tr th {\n",
       "        vertical-align: top;\n",
       "    }\n",
       "\n",
       "    .dataframe thead th {\n",
       "        text-align: right;\n",
       "    }\n",
       "</style>\n",
       "<table border=\"1\" class=\"dataframe\">\n",
       "  <thead>\n",
       "    <tr style=\"text-align: right;\">\n",
       "      <th></th>\n",
       "      <th>Temperature</th>\n",
       "      <th>RH</th>\n",
       "      <th>Ws</th>\n",
       "      <th>Rain</th>\n",
       "      <th>FFMC</th>\n",
       "      <th>DMC</th>\n",
       "      <th>DC</th>\n",
       "      <th>ISI</th>\n",
       "      <th>BUI</th>\n",
       "      <th>FWI</th>\n",
       "      <th>Classes</th>\n",
       "      <th>date</th>\n",
       "      <th>Region</th>\n",
       "    </tr>\n",
       "  </thead>\n",
       "  <tbody>\n",
       "    <tr>\n",
       "      <th>0</th>\n",
       "      <td>29</td>\n",
       "      <td>57</td>\n",
       "      <td>18</td>\n",
       "      <td>0</td>\n",
       "      <td>65.7</td>\n",
       "      <td>3.4</td>\n",
       "      <td>7.6</td>\n",
       "      <td>1.3</td>\n",
       "      <td>3.4</td>\n",
       "      <td>0.5</td>\n",
       "      <td>not fire</td>\n",
       "      <td>2012-06-01</td>\n",
       "      <td>0</td>\n",
       "    </tr>\n",
       "    <tr>\n",
       "      <th>1</th>\n",
       "      <td>29</td>\n",
       "      <td>61</td>\n",
       "      <td>13</td>\n",
       "      <td>1.3</td>\n",
       "      <td>64.4</td>\n",
       "      <td>4.1</td>\n",
       "      <td>7.6</td>\n",
       "      <td>1</td>\n",
       "      <td>3.9</td>\n",
       "      <td>0.4</td>\n",
       "      <td>not fire</td>\n",
       "      <td>2012-06-02</td>\n",
       "      <td>0</td>\n",
       "    </tr>\n",
       "    <tr>\n",
       "      <th>2</th>\n",
       "      <td>26</td>\n",
       "      <td>82</td>\n",
       "      <td>22</td>\n",
       "      <td>13.1</td>\n",
       "      <td>47.1</td>\n",
       "      <td>2.5</td>\n",
       "      <td>7.1</td>\n",
       "      <td>0.3</td>\n",
       "      <td>2.7</td>\n",
       "      <td>0.1</td>\n",
       "      <td>not fire</td>\n",
       "      <td>2012-06-03</td>\n",
       "      <td>0</td>\n",
       "    </tr>\n",
       "    <tr>\n",
       "      <th>3</th>\n",
       "      <td>25</td>\n",
       "      <td>89</td>\n",
       "      <td>13</td>\n",
       "      <td>2.5</td>\n",
       "      <td>28.6</td>\n",
       "      <td>1.3</td>\n",
       "      <td>6.9</td>\n",
       "      <td>0</td>\n",
       "      <td>1.7</td>\n",
       "      <td>0</td>\n",
       "      <td>not fire</td>\n",
       "      <td>2012-06-04</td>\n",
       "      <td>0</td>\n",
       "    </tr>\n",
       "    <tr>\n",
       "      <th>4</th>\n",
       "      <td>27</td>\n",
       "      <td>77</td>\n",
       "      <td>16</td>\n",
       "      <td>0</td>\n",
       "      <td>64.8</td>\n",
       "      <td>3</td>\n",
       "      <td>14.2</td>\n",
       "      <td>1.2</td>\n",
       "      <td>3.9</td>\n",
       "      <td>0.5</td>\n",
       "      <td>not fire</td>\n",
       "      <td>2012-06-05</td>\n",
       "      <td>0</td>\n",
       "    </tr>\n",
       "  </tbody>\n",
       "</table>\n",
       "</div>"
      ],
      "text/plain": [
       "  Temperature  RH  Ws  Rain  FFMC  DMC    DC  ISI  BUI  FWI      Classes  \\\n",
       "0          29  57  18     0  65.7  3.4   7.6  1.3  3.4  0.5  not fire      \n",
       "1          29  61  13   1.3  64.4  4.1   7.6    1  3.9  0.4  not fire      \n",
       "2          26  82  22  13.1  47.1  2.5   7.1  0.3  2.7  0.1  not fire      \n",
       "3          25  89  13   2.5  28.6  1.3   6.9    0  1.7    0  not fire      \n",
       "4          27  77  16     0  64.8    3  14.2  1.2  3.9  0.5  not fire      \n",
       "\n",
       "        date  Region  \n",
       "0 2012-06-01       0  \n",
       "1 2012-06-02       0  \n",
       "2 2012-06-03       0  \n",
       "3 2012-06-04       0  \n",
       "4 2012-06-05       0  "
      ]
     },
     "execution_count": 17,
     "metadata": {},
     "output_type": "execute_result"
    }
   ],
   "source": [
    "data.head()"
   ]
  },
  {
   "cell_type": "markdown",
   "id": "1adede69",
   "metadata": {},
   "source": [
    "### Information about dataset such as data type, column etc."
   ]
  },
  {
   "cell_type": "code",
   "execution_count": 18,
   "id": "9b9ce93b",
   "metadata": {},
   "outputs": [
    {
     "name": "stdout",
     "output_type": "stream",
     "text": [
      "<class 'pandas.core.frame.DataFrame'>\n",
      "Int64Index: 243 entries, 0 to 246\n",
      "Data columns (total 13 columns):\n",
      " #   Column       Non-Null Count  Dtype         \n",
      "---  ------       --------------  -----         \n",
      " 0   Temperature  243 non-null    object        \n",
      " 1   RH           243 non-null    object        \n",
      " 2   Ws           243 non-null    object        \n",
      " 3   Rain         243 non-null    object        \n",
      " 4   FFMC         243 non-null    object        \n",
      " 5   DMC          243 non-null    object        \n",
      " 6   DC           243 non-null    object        \n",
      " 7   ISI          243 non-null    object        \n",
      " 8   BUI          243 non-null    object        \n",
      " 9   FWI          243 non-null    object        \n",
      " 10  Classes      243 non-null    object        \n",
      " 11  date         243 non-null    datetime64[ns]\n",
      " 12  Region       243 non-null    int64         \n",
      "dtypes: datetime64[ns](1), int64(1), object(11)\n",
      "memory usage: 34.7+ KB\n"
     ]
    }
   ],
   "source": [
    "data.info()"
   ]
  },
  {
   "cell_type": "markdown",
   "id": "8fecb168",
   "metadata": {},
   "source": [
    "## Data checks to perform."
   ]
  },
  {
   "cell_type": "markdown",
   "id": "0efa1fd6",
   "metadata": {},
   "source": [
    "#### 1.Check missing values.\n",
    "#### 2.Check duplicates.\n",
    "#### 3.Check data types.\n",
    "#### 4.Check the number of unique values of each columns.\n",
    "#### 5.Check statistics of data set.\n",
    "#### 6.Check various categories preset=nt in the different categorical column."
   ]
  },
  {
   "cell_type": "code",
   "execution_count": 19,
   "id": "26f41cf2",
   "metadata": {},
   "outputs": [
    {
     "data": {
      "text/plain": [
       "Temperature    0\n",
       "RH             0\n",
       "Ws             0\n",
       "Rain           0\n",
       "FFMC           0\n",
       "DMC            0\n",
       "DC             0\n",
       "ISI            0\n",
       "BUI            0\n",
       "FWI            0\n",
       "Classes        0\n",
       "date           0\n",
       "Region         0\n",
       "dtype: int64"
      ]
     },
     "execution_count": 19,
     "metadata": {},
     "output_type": "execute_result"
    }
   ],
   "source": [
    "#1.Checking missing values.\n",
    "data.isnull().sum()"
   ]
  },
  {
   "cell_type": "code",
   "execution_count": 20,
   "id": "85e97c2d",
   "metadata": {},
   "outputs": [],
   "source": [
    "# Converting output variable into 0 and 1 of classes column.\n",
    "data['Classes'] = data['Classes'].map({'not fire' : 0, 'fire' : 1 })"
   ]
  },
  {
   "cell_type": "code",
   "execution_count": 21,
   "id": "b44511f2",
   "metadata": {},
   "outputs": [
    {
     "data": {
      "text/plain": [
       "0"
      ]
     },
     "execution_count": 21,
     "metadata": {},
     "output_type": "execute_result"
    }
   ],
   "source": [
    "#2.Checking duplicates.\n",
    "data.duplicated().sum()"
   ]
  },
  {
   "cell_type": "markdown",
   "id": "a3e0a1a1",
   "metadata": {},
   "source": [
    "#### No duplicate value in dataset."
   ]
  },
  {
   "cell_type": "code",
   "execution_count": 22,
   "id": "93389c01",
   "metadata": {},
   "outputs": [
    {
     "data": {
      "text/plain": [
       "Temperature            object\n",
       "RH                     object\n",
       "Ws                     object\n",
       "Rain                   object\n",
       "FFMC                   object\n",
       "DMC                    object\n",
       "DC                     object\n",
       "ISI                    object\n",
       "BUI                    object\n",
       "FWI                    object\n",
       "Classes               float64\n",
       "date           datetime64[ns]\n",
       "Region                  int64\n",
       "dtype: object"
      ]
     },
     "execution_count": 22,
     "metadata": {},
     "output_type": "execute_result"
    }
   ],
   "source": [
    "#3.Checking data types.\n",
    "data.dtypes"
   ]
  },
  {
   "cell_type": "code",
   "execution_count": 23,
   "id": "53db4425",
   "metadata": {},
   "outputs": [],
   "source": [
    "data[['Temperature','RH','Ws']]=data[['Temperature','RH','Ws']].astype(int)\n",
    "data[['Rain','FFMC','DMC','ISI','BUI']]=data[['Rain','FFMC','DMC','ISI','BUI']].astype(float)"
   ]
  },
  {
   "cell_type": "code",
   "execution_count": 24,
   "id": "266e65f2",
   "metadata": {},
   "outputs": [
    {
     "data": {
      "text/plain": [
       "Temperature     19\n",
       "RH              62\n",
       "Ws              18\n",
       "Rain            39\n",
       "FFMC           173\n",
       "DMC            165\n",
       "DC             197\n",
       "ISI            106\n",
       "BUI            173\n",
       "FWI            125\n",
       "Classes          2\n",
       "date           122\n",
       "Region           2\n",
       "dtype: int64"
      ]
     },
     "execution_count": 24,
     "metadata": {},
     "output_type": "execute_result"
    }
   ],
   "source": [
    "#4.Checking the number of unique values of each column.\n",
    "data.nunique()"
   ]
  },
  {
   "cell_type": "code",
   "execution_count": 25,
   "id": "de5ea29d",
   "metadata": {},
   "outputs": [
    {
     "data": {
      "text/html": [
       "<div>\n",
       "<style scoped>\n",
       "    .dataframe tbody tr th:only-of-type {\n",
       "        vertical-align: middle;\n",
       "    }\n",
       "\n",
       "    .dataframe tbody tr th {\n",
       "        vertical-align: top;\n",
       "    }\n",
       "\n",
       "    .dataframe thead th {\n",
       "        text-align: right;\n",
       "    }\n",
       "</style>\n",
       "<table border=\"1\" class=\"dataframe\">\n",
       "  <thead>\n",
       "    <tr style=\"text-align: right;\">\n",
       "      <th></th>\n",
       "      <th>Temperature</th>\n",
       "      <th>RH</th>\n",
       "      <th>Ws</th>\n",
       "      <th>Rain</th>\n",
       "      <th>FFMC</th>\n",
       "      <th>DMC</th>\n",
       "      <th>ISI</th>\n",
       "      <th>BUI</th>\n",
       "      <th>Classes</th>\n",
       "      <th>Region</th>\n",
       "    </tr>\n",
       "  </thead>\n",
       "  <tbody>\n",
       "    <tr>\n",
       "      <th>count</th>\n",
       "      <td>243.000000</td>\n",
       "      <td>243.000000</td>\n",
       "      <td>243.000000</td>\n",
       "      <td>243.000000</td>\n",
       "      <td>243.000000</td>\n",
       "      <td>243.000000</td>\n",
       "      <td>243.000000</td>\n",
       "      <td>243.000000</td>\n",
       "      <td>6.000000</td>\n",
       "      <td>243.000000</td>\n",
       "    </tr>\n",
       "    <tr>\n",
       "      <th>mean</th>\n",
       "      <td>32.152263</td>\n",
       "      <td>62.041152</td>\n",
       "      <td>15.493827</td>\n",
       "      <td>0.762963</td>\n",
       "      <td>77.842387</td>\n",
       "      <td>14.680658</td>\n",
       "      <td>4.742387</td>\n",
       "      <td>16.690535</td>\n",
       "      <td>0.666667</td>\n",
       "      <td>0.481481</td>\n",
       "    </tr>\n",
       "    <tr>\n",
       "      <th>std</th>\n",
       "      <td>3.628039</td>\n",
       "      <td>14.828160</td>\n",
       "      <td>2.811385</td>\n",
       "      <td>2.003207</td>\n",
       "      <td>14.349641</td>\n",
       "      <td>12.393040</td>\n",
       "      <td>4.154234</td>\n",
       "      <td>14.228421</td>\n",
       "      <td>0.516398</td>\n",
       "      <td>0.500688</td>\n",
       "    </tr>\n",
       "    <tr>\n",
       "      <th>min</th>\n",
       "      <td>22.000000</td>\n",
       "      <td>21.000000</td>\n",
       "      <td>6.000000</td>\n",
       "      <td>0.000000</td>\n",
       "      <td>28.600000</td>\n",
       "      <td>0.700000</td>\n",
       "      <td>0.000000</td>\n",
       "      <td>1.100000</td>\n",
       "      <td>0.000000</td>\n",
       "      <td>0.000000</td>\n",
       "    </tr>\n",
       "    <tr>\n",
       "      <th>25%</th>\n",
       "      <td>30.000000</td>\n",
       "      <td>52.500000</td>\n",
       "      <td>14.000000</td>\n",
       "      <td>0.000000</td>\n",
       "      <td>71.850000</td>\n",
       "      <td>5.800000</td>\n",
       "      <td>1.400000</td>\n",
       "      <td>6.000000</td>\n",
       "      <td>0.250000</td>\n",
       "      <td>0.000000</td>\n",
       "    </tr>\n",
       "    <tr>\n",
       "      <th>50%</th>\n",
       "      <td>32.000000</td>\n",
       "      <td>63.000000</td>\n",
       "      <td>15.000000</td>\n",
       "      <td>0.000000</td>\n",
       "      <td>83.300000</td>\n",
       "      <td>11.300000</td>\n",
       "      <td>3.500000</td>\n",
       "      <td>12.400000</td>\n",
       "      <td>1.000000</td>\n",
       "      <td>0.000000</td>\n",
       "    </tr>\n",
       "    <tr>\n",
       "      <th>75%</th>\n",
       "      <td>35.000000</td>\n",
       "      <td>73.500000</td>\n",
       "      <td>17.000000</td>\n",
       "      <td>0.500000</td>\n",
       "      <td>88.300000</td>\n",
       "      <td>20.800000</td>\n",
       "      <td>7.250000</td>\n",
       "      <td>22.650000</td>\n",
       "      <td>1.000000</td>\n",
       "      <td>1.000000</td>\n",
       "    </tr>\n",
       "    <tr>\n",
       "      <th>max</th>\n",
       "      <td>42.000000</td>\n",
       "      <td>90.000000</td>\n",
       "      <td>29.000000</td>\n",
       "      <td>16.800000</td>\n",
       "      <td>96.000000</td>\n",
       "      <td>65.900000</td>\n",
       "      <td>19.000000</td>\n",
       "      <td>68.000000</td>\n",
       "      <td>1.000000</td>\n",
       "      <td>1.000000</td>\n",
       "    </tr>\n",
       "  </tbody>\n",
       "</table>\n",
       "</div>"
      ],
      "text/plain": [
       "       Temperature          RH          Ws        Rain        FFMC  \\\n",
       "count   243.000000  243.000000  243.000000  243.000000  243.000000   \n",
       "mean     32.152263   62.041152   15.493827    0.762963   77.842387   \n",
       "std       3.628039   14.828160    2.811385    2.003207   14.349641   \n",
       "min      22.000000   21.000000    6.000000    0.000000   28.600000   \n",
       "25%      30.000000   52.500000   14.000000    0.000000   71.850000   \n",
       "50%      32.000000   63.000000   15.000000    0.000000   83.300000   \n",
       "75%      35.000000   73.500000   17.000000    0.500000   88.300000   \n",
       "max      42.000000   90.000000   29.000000   16.800000   96.000000   \n",
       "\n",
       "              DMC         ISI         BUI   Classes      Region  \n",
       "count  243.000000  243.000000  243.000000  6.000000  243.000000  \n",
       "mean    14.680658    4.742387   16.690535  0.666667    0.481481  \n",
       "std     12.393040    4.154234   14.228421  0.516398    0.500688  \n",
       "min      0.700000    0.000000    1.100000  0.000000    0.000000  \n",
       "25%      5.800000    1.400000    6.000000  0.250000    0.000000  \n",
       "50%     11.300000    3.500000   12.400000  1.000000    0.000000  \n",
       "75%     20.800000    7.250000   22.650000  1.000000    1.000000  \n",
       "max     65.900000   19.000000   68.000000  1.000000    1.000000  "
      ]
     },
     "execution_count": 25,
     "metadata": {},
     "output_type": "execute_result"
    }
   ],
   "source": [
    "#5.Check statistics of data.\n",
    "data.describe()"
   ]
  },
  {
   "cell_type": "markdown",
   "id": "7d091e4e",
   "metadata": {},
   "source": [
    "## Insights"
   ]
  },
  {
   "cell_type": "raw",
   "id": "74cd12ae",
   "metadata": {},
   "source": [
    "1.From the above description of data it is clear that maximum temp is 42 degree celsius.\n",
    "2.Minimum rain is 0 mm."
   ]
  },
  {
   "cell_type": "code",
   "execution_count": 26,
   "id": "122b76da",
   "metadata": {},
   "outputs": [
    {
     "name": "stdout",
     "output_type": "stream",
     "text": [
      "[]\n"
     ]
    }
   ],
   "source": [
    "#Categorical features\n",
    "categorical_features=[feature for feature in data.columns if data[feature].dtypes=='0']\n",
    "print(categorical_features)"
   ]
  },
  {
   "cell_type": "code",
   "execution_count": 27,
   "id": "9856127b",
   "metadata": {},
   "outputs": [],
   "source": [
    "for feature in categorical_features:\n",
    "    print(data.groupby(feature)['Region'].value_counts())"
   ]
  },
  {
   "cell_type": "code",
   "execution_count": 28,
   "id": "38e06670",
   "metadata": {},
   "outputs": [
    {
     "name": "stdout",
     "output_type": "stream",
     "text": [
      "['Temperature', 'RH', 'Ws', 'Rain', 'FFMC', 'DMC', 'DC', 'ISI', 'BUI', 'FWI', 'Classes', 'date', 'Region']\n"
     ]
    }
   ],
   "source": [
    "#Numerical features\n",
    "Numerical_features=[feature for feature in data.columns if data[feature].dtypes!='0']\n",
    "print(Numerical_features)"
   ]
  },
  {
   "cell_type": "code",
   "execution_count": 31,
   "id": "6ca84b66",
   "metadata": {},
   "outputs": [
    {
     "data": {
      "text/html": [
       "<div>\n",
       "<style scoped>\n",
       "    .dataframe tbody tr th:only-of-type {\n",
       "        vertical-align: middle;\n",
       "    }\n",
       "\n",
       "    .dataframe tbody tr th {\n",
       "        vertical-align: top;\n",
       "    }\n",
       "\n",
       "    .dataframe thead th {\n",
       "        text-align: right;\n",
       "    }\n",
       "</style>\n",
       "<table border=\"1\" class=\"dataframe\">\n",
       "  <thead>\n",
       "    <tr style=\"text-align: right;\">\n",
       "      <th></th>\n",
       "      <th>Temperature</th>\n",
       "      <th>RH</th>\n",
       "      <th>Ws</th>\n",
       "      <th>Rain</th>\n",
       "      <th>FFMC</th>\n",
       "      <th>DMC</th>\n",
       "      <th>DC</th>\n",
       "      <th>ISI</th>\n",
       "      <th>BUI</th>\n",
       "      <th>FWI</th>\n",
       "      <th>Classes</th>\n",
       "      <th>date</th>\n",
       "      <th>Region</th>\n",
       "    </tr>\n",
       "  </thead>\n",
       "  <tbody>\n",
       "    <tr>\n",
       "      <th>0</th>\n",
       "      <td>29</td>\n",
       "      <td>57</td>\n",
       "      <td>18</td>\n",
       "      <td>0.0</td>\n",
       "      <td>65.7</td>\n",
       "      <td>3.4</td>\n",
       "      <td>7.6</td>\n",
       "      <td>1.3</td>\n",
       "      <td>3.4</td>\n",
       "      <td>0.5</td>\n",
       "      <td>NaN</td>\n",
       "      <td>2012-06-01</td>\n",
       "      <td>0</td>\n",
       "    </tr>\n",
       "    <tr>\n",
       "      <th>1</th>\n",
       "      <td>29</td>\n",
       "      <td>61</td>\n",
       "      <td>13</td>\n",
       "      <td>1.3</td>\n",
       "      <td>64.4</td>\n",
       "      <td>4.1</td>\n",
       "      <td>7.6</td>\n",
       "      <td>1.0</td>\n",
       "      <td>3.9</td>\n",
       "      <td>0.4</td>\n",
       "      <td>NaN</td>\n",
       "      <td>2012-06-02</td>\n",
       "      <td>0</td>\n",
       "    </tr>\n",
       "    <tr>\n",
       "      <th>2</th>\n",
       "      <td>26</td>\n",
       "      <td>82</td>\n",
       "      <td>22</td>\n",
       "      <td>13.1</td>\n",
       "      <td>47.1</td>\n",
       "      <td>2.5</td>\n",
       "      <td>7.1</td>\n",
       "      <td>0.3</td>\n",
       "      <td>2.7</td>\n",
       "      <td>0.1</td>\n",
       "      <td>NaN</td>\n",
       "      <td>2012-06-03</td>\n",
       "      <td>0</td>\n",
       "    </tr>\n",
       "    <tr>\n",
       "      <th>3</th>\n",
       "      <td>25</td>\n",
       "      <td>89</td>\n",
       "      <td>13</td>\n",
       "      <td>2.5</td>\n",
       "      <td>28.6</td>\n",
       "      <td>1.3</td>\n",
       "      <td>6.9</td>\n",
       "      <td>0.0</td>\n",
       "      <td>1.7</td>\n",
       "      <td>0</td>\n",
       "      <td>NaN</td>\n",
       "      <td>2012-06-04</td>\n",
       "      <td>0</td>\n",
       "    </tr>\n",
       "    <tr>\n",
       "      <th>4</th>\n",
       "      <td>27</td>\n",
       "      <td>77</td>\n",
       "      <td>16</td>\n",
       "      <td>0.0</td>\n",
       "      <td>64.8</td>\n",
       "      <td>3.0</td>\n",
       "      <td>14.2</td>\n",
       "      <td>1.2</td>\n",
       "      <td>3.9</td>\n",
       "      <td>0.5</td>\n",
       "      <td>NaN</td>\n",
       "      <td>2012-06-05</td>\n",
       "      <td>0</td>\n",
       "    </tr>\n",
       "  </tbody>\n",
       "</table>\n",
       "</div>"
      ],
      "text/plain": [
       "   Temperature  RH  Ws  Rain  FFMC  DMC    DC  ISI  BUI  FWI  Classes  \\\n",
       "0           29  57  18   0.0  65.7  3.4   7.6  1.3  3.4  0.5      NaN   \n",
       "1           29  61  13   1.3  64.4  4.1   7.6  1.0  3.9  0.4      NaN   \n",
       "2           26  82  22  13.1  47.1  2.5   7.1  0.3  2.7  0.1      NaN   \n",
       "3           25  89  13   2.5  28.6  1.3   6.9  0.0  1.7    0      NaN   \n",
       "4           27  77  16   0.0  64.8  3.0  14.2  1.2  3.9  0.5      NaN   \n",
       "\n",
       "        date  Region  \n",
       "0 2012-06-01       0  \n",
       "1 2012-06-02       0  \n",
       "2 2012-06-03       0  \n",
       "3 2012-06-04       0  \n",
       "4 2012-06-05       0  "
      ]
     },
     "execution_count": 31,
     "metadata": {},
     "output_type": "execute_result"
    }
   ],
   "source": [
    "data.head()"
   ]
  },
  {
   "cell_type": "code",
   "execution_count": 33,
   "id": "4c5c74e9",
   "metadata": {},
   "outputs": [],
   "source": [
    "#dropping index and classes feature\n",
    "data.drop(['Classes'],axis=1,inplace=True)"
   ]
  },
  {
   "cell_type": "code",
   "execution_count": 34,
   "id": "8e932d01",
   "metadata": {},
   "outputs": [
    {
     "data": {
      "text/html": [
       "<div>\n",
       "<style scoped>\n",
       "    .dataframe tbody tr th:only-of-type {\n",
       "        vertical-align: middle;\n",
       "    }\n",
       "\n",
       "    .dataframe tbody tr th {\n",
       "        vertical-align: top;\n",
       "    }\n",
       "\n",
       "    .dataframe thead th {\n",
       "        text-align: right;\n",
       "    }\n",
       "</style>\n",
       "<table border=\"1\" class=\"dataframe\">\n",
       "  <thead>\n",
       "    <tr style=\"text-align: right;\">\n",
       "      <th></th>\n",
       "      <th>Temperature</th>\n",
       "      <th>RH</th>\n",
       "      <th>Ws</th>\n",
       "      <th>Rain</th>\n",
       "      <th>FFMC</th>\n",
       "      <th>DMC</th>\n",
       "      <th>DC</th>\n",
       "      <th>ISI</th>\n",
       "      <th>BUI</th>\n",
       "      <th>FWI</th>\n",
       "      <th>date</th>\n",
       "      <th>Region</th>\n",
       "    </tr>\n",
       "  </thead>\n",
       "  <tbody>\n",
       "    <tr>\n",
       "      <th>0</th>\n",
       "      <td>29</td>\n",
       "      <td>57</td>\n",
       "      <td>18</td>\n",
       "      <td>0.0</td>\n",
       "      <td>65.7</td>\n",
       "      <td>3.4</td>\n",
       "      <td>7.6</td>\n",
       "      <td>1.3</td>\n",
       "      <td>3.4</td>\n",
       "      <td>0.5</td>\n",
       "      <td>2012-06-01</td>\n",
       "      <td>0</td>\n",
       "    </tr>\n",
       "    <tr>\n",
       "      <th>1</th>\n",
       "      <td>29</td>\n",
       "      <td>61</td>\n",
       "      <td>13</td>\n",
       "      <td>1.3</td>\n",
       "      <td>64.4</td>\n",
       "      <td>4.1</td>\n",
       "      <td>7.6</td>\n",
       "      <td>1.0</td>\n",
       "      <td>3.9</td>\n",
       "      <td>0.4</td>\n",
       "      <td>2012-06-02</td>\n",
       "      <td>0</td>\n",
       "    </tr>\n",
       "    <tr>\n",
       "      <th>2</th>\n",
       "      <td>26</td>\n",
       "      <td>82</td>\n",
       "      <td>22</td>\n",
       "      <td>13.1</td>\n",
       "      <td>47.1</td>\n",
       "      <td>2.5</td>\n",
       "      <td>7.1</td>\n",
       "      <td>0.3</td>\n",
       "      <td>2.7</td>\n",
       "      <td>0.1</td>\n",
       "      <td>2012-06-03</td>\n",
       "      <td>0</td>\n",
       "    </tr>\n",
       "    <tr>\n",
       "      <th>3</th>\n",
       "      <td>25</td>\n",
       "      <td>89</td>\n",
       "      <td>13</td>\n",
       "      <td>2.5</td>\n",
       "      <td>28.6</td>\n",
       "      <td>1.3</td>\n",
       "      <td>6.9</td>\n",
       "      <td>0.0</td>\n",
       "      <td>1.7</td>\n",
       "      <td>0</td>\n",
       "      <td>2012-06-04</td>\n",
       "      <td>0</td>\n",
       "    </tr>\n",
       "    <tr>\n",
       "      <th>4</th>\n",
       "      <td>27</td>\n",
       "      <td>77</td>\n",
       "      <td>16</td>\n",
       "      <td>0.0</td>\n",
       "      <td>64.8</td>\n",
       "      <td>3.0</td>\n",
       "      <td>14.2</td>\n",
       "      <td>1.2</td>\n",
       "      <td>3.9</td>\n",
       "      <td>0.5</td>\n",
       "      <td>2012-06-05</td>\n",
       "      <td>0</td>\n",
       "    </tr>\n",
       "  </tbody>\n",
       "</table>\n",
       "</div>"
      ],
      "text/plain": [
       "   Temperature  RH  Ws  Rain  FFMC  DMC    DC  ISI  BUI  FWI       date  \\\n",
       "0           29  57  18   0.0  65.7  3.4   7.6  1.3  3.4  0.5 2012-06-01   \n",
       "1           29  61  13   1.3  64.4  4.1   7.6  1.0  3.9  0.4 2012-06-02   \n",
       "2           26  82  22  13.1  47.1  2.5   7.1  0.3  2.7  0.1 2012-06-03   \n",
       "3           25  89  13   2.5  28.6  1.3   6.9  0.0  1.7    0 2012-06-04   \n",
       "4           27  77  16   0.0  64.8  3.0  14.2  1.2  3.9  0.5 2012-06-05   \n",
       "\n",
       "   Region  \n",
       "0       0  \n",
       "1       0  \n",
       "2       0  \n",
       "3       0  \n",
       "4       0  "
      ]
     },
     "execution_count": 34,
     "metadata": {},
     "output_type": "execute_result"
    }
   ],
   "source": [
    "data.head()"
   ]
  },
  {
   "cell_type": "markdown",
   "id": "a90017bc",
   "metadata": {},
   "source": [
    "## Graphical Analysis :-"
   ]
  },
  {
   "cell_type": "code",
   "execution_count": 48,
   "id": "c23e82a6",
   "metadata": {},
   "outputs": [
    {
     "data": {
      "text/plain": [
       "<AxesSubplot:xlabel='Temperature', ylabel='date'>"
      ]
     },
     "execution_count": 48,
     "metadata": {},
     "output_type": "execute_result"
    },
    {
     "data": {
      "image/png": "[encoded data removed]",
      "text/plain": [
       "<Figure size 432x288 with 1 Axes>"
      ]
     },
     "metadata": {
      "needs_background": "light"
     },
     "output_type": "display_data"
    }
   ],
   "source": [
    "# Temperature vs Date\n",
    "sns.lineplot(x=\"Temperature\",y=\"date\",data=data,color='r')"
   ]
  },
  {
   "cell_type": "code",
   "execution_count": 49,
   "id": "7d9d4de3",
   "metadata": {},
   "outputs": [
    {
     "data": {
      "text/plain": [
       "<AxesSubplot:xlabel='Region', ylabel='Temperature'>"
      ]
     },
     "execution_count": 49,
     "metadata": {},
     "output_type": "execute_result"
    },
    {
     "data": {
      "image/png": "[encoded data removed]",
      "text/plain": [
       "<Figure size 432x288 with 1 Axes>"
      ]
     },
     "metadata": {
      "needs_background": "light"
     },
     "output_type": "display_data"
    }
   ],
   "source": [
    "# Temperature vs Region\n",
    "sns.barplot(x=\"Region\",y=\"Temperature\",data=data)"
   ]
  },
  {
   "cell_type": "code",
   "execution_count": 47,
   "id": "9415b234",
   "metadata": {},
   "outputs": [
    {
     "data": {
      "image/png": "[encoded data removed]",
      "text/plain": [
       "<Figure size 432x288 with 1 Axes>"
      ]
     },
     "metadata": {
      "needs_background": "light"
     },
     "output_type": "display_data"
    },
    {
     "data": {
      "image/png": "[encoded data removed]",
      "text/plain": [
       "<Figure size 432x288 with 1 Axes>"
      ]
     },
     "metadata": {
      "needs_background": "light"
     },
     "output_type": "display_data"
    },
    {
     "data": {
      "image/png": "[encoded data removed]",
      "text/plain": [
       "<Figure size 432x288 with 1 Axes>"
      ]
     },
     "metadata": {
      "needs_background": "light"
     },
     "output_type": "display_data"
    },
    {
     "data": {
      "image/png": "[encoded data removed]",
      "text/plain": [
       "<Figure size 432x288 with 1 Axes>"
      ]
     },
     "metadata": {
      "needs_background": "light"
     },
     "output_type": "display_data"
    },
    {
     "data": {
      "image/png": "[encoded data removed]",
      "text/plain": [
       "<Figure size 432x288 with 1 Axes>"
      ]
     },
     "metadata": {
      "needs_background": "light"
     },
     "output_type": "display_data"
    },
    {
     "data": {
      "image/png": "[encoded data removed]",
      "text/plain": [
       "<Figure size 432x288 with 1 Axes>"
      ]
     },
     "metadata": {
      "needs_background": "light"
     },
     "output_type": "display_data"
    },
    {
     "data": {
      "image/png": "[encoded data removed]",
      "text/plain": [
       "<Figure size 432x288 with 1 Axes>"
      ]
     },
     "metadata": {
      "needs_background": "light"
     },
     "output_type": "display_data"
    },
    {
     "data": {
      "image/png": "[encoded data removed]",
      "text/plain": [
       "<Figure size 432x288 with 1 Axes>"
      ]
     },
     "metadata": {
      "needs_background": "light"
     },
     "output_type": "display_data"
    },
    {
     "data": {
      "image/png": "[encoded data removed]",
      "text/plain": [
       "<Figure size 432x288 with 1 Axes>"
      ]
     },
     "metadata": {
      "needs_background": "light"
     },
     "output_type": "display_data"
    },
    {
     "data": {
      "image/png": "[encoded data removed]",
      "text/plain": [
       "<Figure size 432x288 with 1 Axes>"
      ]
     },
     "metadata": {
      "needs_background": "light"
     },
     "output_type": "display_data"
    },
    {
     "ename": "ValueError",
     "evalue": "Could not interpret value `Classes` for parameter `x`",
     "output_type": "error",
     "traceback": [
      "\u001b[1;31m---------------------------------------------------------------------------\u001b[0m",
      "\u001b[1;31mValueError\u001b[0m                                Traceback (most recent call last)",
      "Input \u001b[1;32mIn [47]\u001b[0m, in \u001b[0;36m<cell line: 1>\u001b[1;34m()\u001b[0m\n\u001b[0;32m      1\u001b[0m \u001b[38;5;28;01mfor\u001b[39;00m fea \u001b[38;5;129;01min\u001b[39;00m Numerical_features:\n\u001b[1;32m----> 2\u001b[0m     \u001b[43msns\u001b[49m\u001b[38;5;241;43m.\u001b[39;49m\u001b[43mhistplot\u001b[49m\u001b[43m(\u001b[49m\u001b[43mdata\u001b[49m\u001b[38;5;241;43m=\u001b[39;49m\u001b[43mdata\u001b[49m\u001b[43m,\u001b[49m\u001b[43mx\u001b[49m\u001b[38;5;241;43m=\u001b[39;49m\u001b[43mfea\u001b[49m\u001b[43m,\u001b[49m\u001b[43mkde\u001b[49m\u001b[38;5;241;43m=\u001b[39;49m\u001b[38;5;28;43;01mTrue\u001b[39;49;00m\u001b[43m,\u001b[49m\u001b[43mbins\u001b[49m\u001b[38;5;241;43m=\u001b[39;49m\u001b[38;5;241;43m15\u001b[39;49m\u001b[43m,\u001b[49m\u001b[43mcolor\u001b[49m\u001b[38;5;241;43m=\u001b[39;49m\u001b[38;5;124;43m'\u001b[39;49m\u001b[38;5;124;43mgreen\u001b[39;49m\u001b[38;5;124;43m'\u001b[39;49m\u001b[43m)\u001b[49m\n\u001b[0;32m      3\u001b[0m     plt\u001b[38;5;241m.\u001b[39mshow()\n",
      "File \u001b[1;32m~\\anaconda3\\lib\\site-packages\\seaborn\\distributions.py:1430\u001b[0m, in \u001b[0;36mhistplot\u001b[1;34m(data, x, y, hue, weights, stat, bins, binwidth, binrange, discrete, cumulative, common_bins, common_norm, multiple, element, fill, shrink, kde, kde_kws, line_kws, thresh, pthresh, pmax, cbar, cbar_ax, cbar_kws, palette, hue_order, hue_norm, color, log_scale, legend, ax, **kwargs)\u001b[0m\n\u001b[0;32m   1409\u001b[0m \u001b[38;5;28;01mdef\u001b[39;00m \u001b[38;5;21mhistplot\u001b[39m(\n\u001b[0;32m   1410\u001b[0m     data\u001b[38;5;241m=\u001b[39m\u001b[38;5;28;01mNone\u001b[39;00m, \u001b[38;5;241m*\u001b[39m,\n\u001b[0;32m   1411\u001b[0m     \u001b[38;5;66;03m# Vector variables\u001b[39;00m\n\u001b[1;32m   (...)\u001b[0m\n\u001b[0;32m   1427\u001b[0m     \u001b[38;5;241m*\u001b[39m\u001b[38;5;241m*\u001b[39mkwargs,\n\u001b[0;32m   1428\u001b[0m ):\n\u001b[1;32m-> 1430\u001b[0m     p \u001b[38;5;241m=\u001b[39m \u001b[43m_DistributionPlotter\u001b[49m\u001b[43m(\u001b[49m\n\u001b[0;32m   1431\u001b[0m \u001b[43m        \u001b[49m\u001b[43mdata\u001b[49m\u001b[38;5;241;43m=\u001b[39;49m\u001b[43mdata\u001b[49m\u001b[43m,\u001b[49m\n\u001b[0;32m   1432\u001b[0m \u001b[43m        \u001b[49m\u001b[43mvariables\u001b[49m\u001b[38;5;241;43m=\u001b[39;49m\u001b[43m_DistributionPlotter\u001b[49m\u001b[38;5;241;43m.\u001b[39;49m\u001b[43mget_semantics\u001b[49m\u001b[43m(\u001b[49m\u001b[38;5;28;43mlocals\u001b[39;49m\u001b[43m(\u001b[49m\u001b[43m)\u001b[49m\u001b[43m)\u001b[49m\n\u001b[0;32m   1433\u001b[0m \u001b[43m    \u001b[49m\u001b[43m)\u001b[49m\n\u001b[0;32m   1435\u001b[0m     p\u001b[38;5;241m.\u001b[39mmap_hue(palette\u001b[38;5;241m=\u001b[39mpalette, order\u001b[38;5;241m=\u001b[39mhue_order, norm\u001b[38;5;241m=\u001b[39mhue_norm)\n\u001b[0;32m   1437\u001b[0m     \u001b[38;5;28;01mif\u001b[39;00m ax \u001b[38;5;129;01mis\u001b[39;00m \u001b[38;5;28;01mNone\u001b[39;00m:\n",
      "File \u001b[1;32m~\\anaconda3\\lib\\site-packages\\seaborn\\distributions.py:111\u001b[0m, in \u001b[0;36m_DistributionPlotter.__init__\u001b[1;34m(self, data, variables)\u001b[0m\n\u001b[0;32m    105\u001b[0m \u001b[38;5;28;01mdef\u001b[39;00m \u001b[38;5;21m__init__\u001b[39m(\n\u001b[0;32m    106\u001b[0m     \u001b[38;5;28mself\u001b[39m,\n\u001b[0;32m    107\u001b[0m     data\u001b[38;5;241m=\u001b[39m\u001b[38;5;28;01mNone\u001b[39;00m,\n\u001b[0;32m    108\u001b[0m     variables\u001b[38;5;241m=\u001b[39m{},\n\u001b[0;32m    109\u001b[0m ):\n\u001b[1;32m--> 111\u001b[0m     \u001b[38;5;28;43msuper\u001b[39;49m\u001b[43m(\u001b[49m\u001b[43m)\u001b[49m\u001b[38;5;241;43m.\u001b[39;49m\u001b[38;5;21;43m__init__\u001b[39;49m\u001b[43m(\u001b[49m\u001b[43mdata\u001b[49m\u001b[38;5;241;43m=\u001b[39;49m\u001b[43mdata\u001b[49m\u001b[43m,\u001b[49m\u001b[43m \u001b[49m\u001b[43mvariables\u001b[49m\u001b[38;5;241;43m=\u001b[39;49m\u001b[43mvariables\u001b[49m\u001b[43m)\u001b[49m\n",
      "File \u001b[1;32m~\\anaconda3\\lib\\site-packages\\seaborn\\_core.py:605\u001b[0m, in \u001b[0;36mVectorPlotter.__init__\u001b[1;34m(self, data, variables)\u001b[0m\n\u001b[0;32m    603\u001b[0m \u001b[38;5;28;01mdef\u001b[39;00m \u001b[38;5;21m__init__\u001b[39m(\u001b[38;5;28mself\u001b[39m, data\u001b[38;5;241m=\u001b[39m\u001b[38;5;28;01mNone\u001b[39;00m, variables\u001b[38;5;241m=\u001b[39m{}):\n\u001b[1;32m--> 605\u001b[0m     \u001b[38;5;28;43mself\u001b[39;49m\u001b[38;5;241;43m.\u001b[39;49m\u001b[43massign_variables\u001b[49m\u001b[43m(\u001b[49m\u001b[43mdata\u001b[49m\u001b[43m,\u001b[49m\u001b[43m \u001b[49m\u001b[43mvariables\u001b[49m\u001b[43m)\u001b[49m\n\u001b[0;32m    607\u001b[0m     \u001b[38;5;28;01mfor\u001b[39;00m var, \u001b[38;5;28mcls\u001b[39m \u001b[38;5;129;01min\u001b[39;00m \u001b[38;5;28mself\u001b[39m\u001b[38;5;241m.\u001b[39m_semantic_mappings\u001b[38;5;241m.\u001b[39mitems():\n\u001b[0;32m    608\u001b[0m \n\u001b[0;32m    609\u001b[0m         \u001b[38;5;66;03m# Create the mapping function\u001b[39;00m\n\u001b[0;32m    610\u001b[0m         map_func \u001b[38;5;241m=\u001b[39m partial(\u001b[38;5;28mcls\u001b[39m\u001b[38;5;241m.\u001b[39mmap, plotter\u001b[38;5;241m=\u001b[39m\u001b[38;5;28mself\u001b[39m)\n",
      "File \u001b[1;32m~\\anaconda3\\lib\\site-packages\\seaborn\\_core.py:668\u001b[0m, in \u001b[0;36mVectorPlotter.assign_variables\u001b[1;34m(self, data, variables)\u001b[0m\n\u001b[0;32m    666\u001b[0m \u001b[38;5;28;01melse\u001b[39;00m:\n\u001b[0;32m    667\u001b[0m     \u001b[38;5;28mself\u001b[39m\u001b[38;5;241m.\u001b[39minput_format \u001b[38;5;241m=\u001b[39m \u001b[38;5;124m\"\u001b[39m\u001b[38;5;124mlong\u001b[39m\u001b[38;5;124m\"\u001b[39m\n\u001b[1;32m--> 668\u001b[0m     plot_data, variables \u001b[38;5;241m=\u001b[39m \u001b[38;5;28mself\u001b[39m\u001b[38;5;241m.\u001b[39m_assign_variables_longform(\n\u001b[0;32m    669\u001b[0m         data, \u001b[38;5;241m*\u001b[39m\u001b[38;5;241m*\u001b[39mvariables,\n\u001b[0;32m    670\u001b[0m     )\n\u001b[0;32m    672\u001b[0m \u001b[38;5;28mself\u001b[39m\u001b[38;5;241m.\u001b[39mplot_data \u001b[38;5;241m=\u001b[39m plot_data\n\u001b[0;32m    673\u001b[0m \u001b[38;5;28mself\u001b[39m\u001b[38;5;241m.\u001b[39mvariables \u001b[38;5;241m=\u001b[39m variables\n",
      "File \u001b[1;32m~\\anaconda3\\lib\\site-packages\\seaborn\\_core.py:903\u001b[0m, in \u001b[0;36mVectorPlotter._assign_variables_longform\u001b[1;34m(self, data, **kwargs)\u001b[0m\n\u001b[0;32m    898\u001b[0m \u001b[38;5;28;01melif\u001b[39;00m \u001b[38;5;28misinstance\u001b[39m(val, (\u001b[38;5;28mstr\u001b[39m, \u001b[38;5;28mbytes\u001b[39m)):\n\u001b[0;32m    899\u001b[0m \n\u001b[0;32m    900\u001b[0m     \u001b[38;5;66;03m# This looks like a column name but we don't know what it means!\u001b[39;00m\n\u001b[0;32m    902\u001b[0m     err \u001b[38;5;241m=\u001b[39m \u001b[38;5;124mf\u001b[39m\u001b[38;5;124m\"\u001b[39m\u001b[38;5;124mCould not interpret value `\u001b[39m\u001b[38;5;132;01m{\u001b[39;00mval\u001b[38;5;132;01m}\u001b[39;00m\u001b[38;5;124m` for parameter `\u001b[39m\u001b[38;5;132;01m{\u001b[39;00mkey\u001b[38;5;132;01m}\u001b[39;00m\u001b[38;5;124m`\u001b[39m\u001b[38;5;124m\"\u001b[39m\n\u001b[1;32m--> 903\u001b[0m     \u001b[38;5;28;01mraise\u001b[39;00m \u001b[38;5;167;01mValueError\u001b[39;00m(err)\n\u001b[0;32m    905\u001b[0m \u001b[38;5;28;01melse\u001b[39;00m:\n\u001b[0;32m    906\u001b[0m \n\u001b[0;32m    907\u001b[0m     \u001b[38;5;66;03m# Otherwise, assume the value is itself data\u001b[39;00m\n\u001b[0;32m    908\u001b[0m \n\u001b[0;32m    909\u001b[0m     \u001b[38;5;66;03m# Raise when data object is present and a vector can't matched\u001b[39;00m\n\u001b[0;32m    910\u001b[0m     \u001b[38;5;28;01mif\u001b[39;00m \u001b[38;5;28misinstance\u001b[39m(data, pd\u001b[38;5;241m.\u001b[39mDataFrame) \u001b[38;5;129;01mand\u001b[39;00m \u001b[38;5;129;01mnot\u001b[39;00m \u001b[38;5;28misinstance\u001b[39m(val, pd\u001b[38;5;241m.\u001b[39mSeries):\n",
      "\u001b[1;31mValueError\u001b[0m: Could not interpret value `Classes` for parameter `x`"
     ]
    }
   ],
   "source": [
    "for fea in Numerical_features:\n",
    "    sns.histplot(data=data,x=fea,kde=True,bins=15,color='green')\n",
    "    plt.show()"
   ]
  },
  {
   "cell_type": "code",
   "execution_count": 50,
   "id": "3ba6ad96",
   "metadata": {},
   "outputs": [
    {
     "data": {
      "text/plain": [
       "<AxesSubplot:xlabel='Temperature', ylabel='Rain'>"
      ]
     },
     "execution_count": 50,
     "metadata": {},
     "output_type": "execute_result"
    },
    {
     "data": {
      "image/png": "[encoded data removed]",
      "text/plain": [
       "<Figure size 432x288 with 1 Axes>"
      ]
     },
     "metadata": {
      "needs_background": "light"
     },
     "output_type": "display_data"
    }
   ],
   "source": [
    "sns.barplot(x=data.Temperature,y=data.Rain)"
   ]
  },
  {
   "cell_type": "code",
   "execution_count": 52,
   "id": "cb434560",
   "metadata": {},
   "outputs": [
    {
     "data": {
      "text/plain": [
       "<AxesSubplot:>"
      ]
     },
     "execution_count": 52,
     "metadata": {},
     "output_type": "execute_result"
    },
    {
     "data": {
      "image/png": "[encoded data removed]",
      "text/plain": [
       "<Figure size 720x720 with 2 Axes>"
      ]
     },
     "metadata": {},
     "output_type": "display_data"
    }
   ],
   "source": [
    "sns.set(rc={'figure.figsize':(10,10)})\n",
    "sns.heatmap(data.corr(),annot=True)"
   ]
  },
  {
   "cell_type": "markdown",
   "id": "c6fdd00c",
   "metadata": {},
   "source": [
    "## Checking outlier"
   ]
  },
  {
   "cell_type": "code",
   "execution_count": 53,
   "id": "e1f27848",
   "metadata": {},
   "outputs": [
    {
     "data": {
      "image/png": "[encoded data removed]",
      "text/plain": [
       "<Figure size 432x432 with 1 Axes>"
      ]
     },
     "metadata": {},
     "output_type": "display_data"
    },
    {
     "data": {
      "image/png": "[encoded data removed]",
      "text/plain": [
       "<Figure size 432x432 with 1 Axes>"
      ]
     },
     "metadata": {},
     "output_type": "display_data"
    },
    {
     "data": {
      "image/png": "[encoded data removed]",
      "text/plain": [
       "<Figure size 432x432 with 1 Axes>"
      ]
     },
     "metadata": {},
     "output_type": "display_data"
    },
    {
     "data": {
      "image/png": "[encoded data removed]",
      "text/plain": [
       "<Figure size 432x432 with 1 Axes>"
      ]
     },
     "metadata": {},
     "output_type": "display_data"
    },
    {
     "data": {
      "image/png": "[encoded data removed]",
      "text/plain": [
       "<Figure size 432x432 with 1 Axes>"
      ]
     },
     "metadata": {},
     "output_type": "display_data"
    },
    {
     "data": {
      "image/png": "[encoded data removed]",
      "text/plain": [
       "<Figure size 432x432 with 1 Axes>"
      ]
     },
     "metadata": {},
     "output_type": "display_data"
    },
    {
     "ename": "TypeError",
     "evalue": "Horizontal orientation requires numeric `x` variable.",
     "output_type": "error",
     "traceback": [
      "\u001b[1;31m---------------------------------------------------------------------------\u001b[0m",
      "\u001b[1;31mTypeError\u001b[0m                                 Traceback (most recent call last)",
      "Input \u001b[1;32mIn [53]\u001b[0m, in \u001b[0;36m<cell line: 2>\u001b[1;34m()\u001b[0m\n\u001b[0;32m      1\u001b[0m sns\u001b[38;5;241m.\u001b[39mset(rc\u001b[38;5;241m=\u001b[39m{\u001b[38;5;124m'\u001b[39m\u001b[38;5;124mfigure.figsize\u001b[39m\u001b[38;5;124m'\u001b[39m:(\u001b[38;5;241m6\u001b[39m,\u001b[38;5;241m6\u001b[39m)})\n\u001b[0;32m      2\u001b[0m \u001b[38;5;28;01mfor\u001b[39;00m fea \u001b[38;5;129;01min\u001b[39;00m Numerical_features:\n\u001b[1;32m----> 3\u001b[0m     \u001b[43msns\u001b[49m\u001b[38;5;241;43m.\u001b[39;49m\u001b[43mboxplot\u001b[49m\u001b[43m(\u001b[49m\u001b[43mx\u001b[49m\u001b[38;5;241;43m=\u001b[39;49m\u001b[43mdata\u001b[49m\u001b[43m[\u001b[49m\u001b[43mfea\u001b[49m\u001b[43m]\u001b[49m\u001b[43m)\u001b[49m\n\u001b[0;32m      4\u001b[0m     plt\u001b[38;5;241m.\u001b[39mshow()\n",
      "File \u001b[1;32m~\\anaconda3\\lib\\site-packages\\seaborn\\_decorators.py:46\u001b[0m, in \u001b[0;36m_deprecate_positional_args.<locals>.inner_f\u001b[1;34m(*args, **kwargs)\u001b[0m\n\u001b[0;32m     36\u001b[0m     warnings\u001b[38;5;241m.\u001b[39mwarn(\n\u001b[0;32m     37\u001b[0m         \u001b[38;5;124m\"\u001b[39m\u001b[38;5;124mPass the following variable\u001b[39m\u001b[38;5;132;01m{}\u001b[39;00m\u001b[38;5;124m as \u001b[39m\u001b[38;5;132;01m{}\u001b[39;00m\u001b[38;5;124mkeyword arg\u001b[39m\u001b[38;5;132;01m{}\u001b[39;00m\u001b[38;5;124m: \u001b[39m\u001b[38;5;132;01m{}\u001b[39;00m\u001b[38;5;124m. \u001b[39m\u001b[38;5;124m\"\u001b[39m\n\u001b[0;32m     38\u001b[0m         \u001b[38;5;124m\"\u001b[39m\u001b[38;5;124mFrom version 0.12, the only valid positional argument \u001b[39m\u001b[38;5;124m\"\u001b[39m\n\u001b[1;32m   (...)\u001b[0m\n\u001b[0;32m     43\u001b[0m         \u001b[38;5;167;01mFutureWarning\u001b[39;00m\n\u001b[0;32m     44\u001b[0m     )\n\u001b[0;32m     45\u001b[0m kwargs\u001b[38;5;241m.\u001b[39mupdate({k: arg \u001b[38;5;28;01mfor\u001b[39;00m k, arg \u001b[38;5;129;01min\u001b[39;00m \u001b[38;5;28mzip\u001b[39m(sig\u001b[38;5;241m.\u001b[39mparameters, args)})\n\u001b[1;32m---> 46\u001b[0m \u001b[38;5;28;01mreturn\u001b[39;00m f(\u001b[38;5;241m*\u001b[39m\u001b[38;5;241m*\u001b[39mkwargs)\n",
      "File \u001b[1;32m~\\anaconda3\\lib\\site-packages\\seaborn\\categorical.py:2243\u001b[0m, in \u001b[0;36mboxplot\u001b[1;34m(x, y, hue, data, order, hue_order, orient, color, palette, saturation, width, dodge, fliersize, linewidth, whis, ax, **kwargs)\u001b[0m\n\u001b[0;32m   2231\u001b[0m \u001b[38;5;129m@_deprecate_positional_args\u001b[39m\n\u001b[0;32m   2232\u001b[0m \u001b[38;5;28;01mdef\u001b[39;00m \u001b[38;5;21mboxplot\u001b[39m(\n\u001b[0;32m   2233\u001b[0m     \u001b[38;5;241m*\u001b[39m,\n\u001b[1;32m   (...)\u001b[0m\n\u001b[0;32m   2240\u001b[0m     \u001b[38;5;241m*\u001b[39m\u001b[38;5;241m*\u001b[39mkwargs\n\u001b[0;32m   2241\u001b[0m ):\n\u001b[1;32m-> 2243\u001b[0m     plotter \u001b[38;5;241m=\u001b[39m \u001b[43m_BoxPlotter\u001b[49m\u001b[43m(\u001b[49m\u001b[43mx\u001b[49m\u001b[43m,\u001b[49m\u001b[43m \u001b[49m\u001b[43my\u001b[49m\u001b[43m,\u001b[49m\u001b[43m \u001b[49m\u001b[43mhue\u001b[49m\u001b[43m,\u001b[49m\u001b[43m \u001b[49m\u001b[43mdata\u001b[49m\u001b[43m,\u001b[49m\u001b[43m \u001b[49m\u001b[43morder\u001b[49m\u001b[43m,\u001b[49m\u001b[43m \u001b[49m\u001b[43mhue_order\u001b[49m\u001b[43m,\u001b[49m\n\u001b[0;32m   2244\u001b[0m \u001b[43m                          \u001b[49m\u001b[43morient\u001b[49m\u001b[43m,\u001b[49m\u001b[43m \u001b[49m\u001b[43mcolor\u001b[49m\u001b[43m,\u001b[49m\u001b[43m \u001b[49m\u001b[43mpalette\u001b[49m\u001b[43m,\u001b[49m\u001b[43m \u001b[49m\u001b[43msaturation\u001b[49m\u001b[43m,\u001b[49m\n\u001b[0;32m   2245\u001b[0m \u001b[43m                          \u001b[49m\u001b[43mwidth\u001b[49m\u001b[43m,\u001b[49m\u001b[43m \u001b[49m\u001b[43mdodge\u001b[49m\u001b[43m,\u001b[49m\u001b[43m \u001b[49m\u001b[43mfliersize\u001b[49m\u001b[43m,\u001b[49m\u001b[43m \u001b[49m\u001b[43mlinewidth\u001b[49m\u001b[43m)\u001b[49m\n\u001b[0;32m   2247\u001b[0m     \u001b[38;5;28;01mif\u001b[39;00m ax \u001b[38;5;129;01mis\u001b[39;00m \u001b[38;5;28;01mNone\u001b[39;00m:\n\u001b[0;32m   2248\u001b[0m         ax \u001b[38;5;241m=\u001b[39m plt\u001b[38;5;241m.\u001b[39mgca()\n",
      "File \u001b[1;32m~\\anaconda3\\lib\\site-packages\\seaborn\\categorical.py:406\u001b[0m, in \u001b[0;36m_BoxPlotter.__init__\u001b[1;34m(self, x, y, hue, data, order, hue_order, orient, color, palette, saturation, width, dodge, fliersize, linewidth)\u001b[0m\n\u001b[0;32m    402\u001b[0m \u001b[38;5;28;01mdef\u001b[39;00m \u001b[38;5;21m__init__\u001b[39m(\u001b[38;5;28mself\u001b[39m, x, y, hue, data, order, hue_order,\n\u001b[0;32m    403\u001b[0m              orient, color, palette, saturation,\n\u001b[0;32m    404\u001b[0m              width, dodge, fliersize, linewidth):\n\u001b[1;32m--> 406\u001b[0m     \u001b[38;5;28;43mself\u001b[39;49m\u001b[38;5;241;43m.\u001b[39;49m\u001b[43mestablish_variables\u001b[49m\u001b[43m(\u001b[49m\u001b[43mx\u001b[49m\u001b[43m,\u001b[49m\u001b[43m \u001b[49m\u001b[43my\u001b[49m\u001b[43m,\u001b[49m\u001b[43m \u001b[49m\u001b[43mhue\u001b[49m\u001b[43m,\u001b[49m\u001b[43m \u001b[49m\u001b[43mdata\u001b[49m\u001b[43m,\u001b[49m\u001b[43m \u001b[49m\u001b[43morient\u001b[49m\u001b[43m,\u001b[49m\u001b[43m \u001b[49m\u001b[43morder\u001b[49m\u001b[43m,\u001b[49m\u001b[43m \u001b[49m\u001b[43mhue_order\u001b[49m\u001b[43m)\u001b[49m\n\u001b[0;32m    407\u001b[0m     \u001b[38;5;28mself\u001b[39m\u001b[38;5;241m.\u001b[39mestablish_colors(color, palette, saturation)\n\u001b[0;32m    409\u001b[0m     \u001b[38;5;28mself\u001b[39m\u001b[38;5;241m.\u001b[39mdodge \u001b[38;5;241m=\u001b[39m dodge\n",
      "File \u001b[1;32m~\\anaconda3\\lib\\site-packages\\seaborn\\categorical.py:156\u001b[0m, in \u001b[0;36m_CategoricalPlotter.establish_variables\u001b[1;34m(self, x, y, hue, data, orient, order, hue_order, units)\u001b[0m\n\u001b[0;32m    153\u001b[0m         \u001b[38;5;28;01mraise\u001b[39;00m \u001b[38;5;167;01mValueError\u001b[39;00m(err)\n\u001b[0;32m    155\u001b[0m \u001b[38;5;66;03m# Figure out the plotting orientation\u001b[39;00m\n\u001b[1;32m--> 156\u001b[0m orient \u001b[38;5;241m=\u001b[39m \u001b[43minfer_orient\u001b[49m\u001b[43m(\u001b[49m\n\u001b[0;32m    157\u001b[0m \u001b[43m    \u001b[49m\u001b[43mx\u001b[49m\u001b[43m,\u001b[49m\u001b[43m \u001b[49m\u001b[43my\u001b[49m\u001b[43m,\u001b[49m\u001b[43m \u001b[49m\u001b[43morient\u001b[49m\u001b[43m,\u001b[49m\u001b[43m \u001b[49m\u001b[43mrequire_numeric\u001b[49m\u001b[38;5;241;43m=\u001b[39;49m\u001b[38;5;28;43mself\u001b[39;49m\u001b[38;5;241;43m.\u001b[39;49m\u001b[43mrequire_numeric\u001b[49m\n\u001b[0;32m    158\u001b[0m \u001b[43m\u001b[49m\u001b[43m)\u001b[49m\n\u001b[0;32m    160\u001b[0m \u001b[38;5;66;03m# Option 2a:\u001b[39;00m\n\u001b[0;32m    161\u001b[0m \u001b[38;5;66;03m# We are plotting a single set of data\u001b[39;00m\n\u001b[0;32m    162\u001b[0m \u001b[38;5;66;03m# ------------------------------------\u001b[39;00m\n\u001b[0;32m    163\u001b[0m \u001b[38;5;28;01mif\u001b[39;00m x \u001b[38;5;129;01mis\u001b[39;00m \u001b[38;5;28;01mNone\u001b[39;00m \u001b[38;5;129;01mor\u001b[39;00m y \u001b[38;5;129;01mis\u001b[39;00m \u001b[38;5;28;01mNone\u001b[39;00m:\n\u001b[0;32m    164\u001b[0m \n\u001b[0;32m    165\u001b[0m     \u001b[38;5;66;03m# Determine where the data are\u001b[39;00m\n",
      "File \u001b[1;32m~\\anaconda3\\lib\\site-packages\\seaborn\\_core.py:1328\u001b[0m, in \u001b[0;36minfer_orient\u001b[1;34m(x, y, orient, require_numeric)\u001b[0m\n\u001b[0;32m   1326\u001b[0m         warnings\u001b[38;5;241m.\u001b[39mwarn(single_var_warning\u001b[38;5;241m.\u001b[39mformat(\u001b[38;5;124m\"\u001b[39m\u001b[38;5;124mVertical\u001b[39m\u001b[38;5;124m\"\u001b[39m, \u001b[38;5;124m\"\u001b[39m\u001b[38;5;124mx\u001b[39m\u001b[38;5;124m\"\u001b[39m))\n\u001b[0;32m   1327\u001b[0m     \u001b[38;5;28;01mif\u001b[39;00m require_numeric \u001b[38;5;129;01mand\u001b[39;00m x_type \u001b[38;5;241m!=\u001b[39m \u001b[38;5;124m\"\u001b[39m\u001b[38;5;124mnumeric\u001b[39m\u001b[38;5;124m\"\u001b[39m:\n\u001b[1;32m-> 1328\u001b[0m         \u001b[38;5;28;01mraise\u001b[39;00m \u001b[38;5;167;01mTypeError\u001b[39;00m(nonnumeric_dv_error\u001b[38;5;241m.\u001b[39mformat(\u001b[38;5;124m\"\u001b[39m\u001b[38;5;124mHorizontal\u001b[39m\u001b[38;5;124m\"\u001b[39m, \u001b[38;5;124m\"\u001b[39m\u001b[38;5;124mx\u001b[39m\u001b[38;5;124m\"\u001b[39m))\n\u001b[0;32m   1329\u001b[0m     \u001b[38;5;28;01mreturn\u001b[39;00m \u001b[38;5;124m\"\u001b[39m\u001b[38;5;124mh\u001b[39m\u001b[38;5;124m\"\u001b[39m\n\u001b[0;32m   1331\u001b[0m \u001b[38;5;28;01melif\u001b[39;00m \u001b[38;5;28mstr\u001b[39m(orient)\u001b[38;5;241m.\u001b[39mstartswith(\u001b[38;5;124m\"\u001b[39m\u001b[38;5;124mv\u001b[39m\u001b[38;5;124m\"\u001b[39m):\n",
      "\u001b[1;31mTypeError\u001b[0m: Horizontal orientation requires numeric `x` variable."
     ]
    }
   ],
   "source": [
    "sns.set(rc={'figure.figsize':(6,6)})\n",
    "for fea in Numerical_features:\n",
    "    sns.boxplot(x=data[fea])\n",
    "    plt.show()"
   ]
  },
  {
   "cell_type": "code",
   "execution_count": 55,
   "id": "8c6f57b0",
   "metadata": {},
   "outputs": [],
   "source": [
    "def find_boundaries(data, variable, distance):\n",
    "    IQR = data[variable].quantile(0.75) - data[variable].quantile(0.25)\n",
    "    lower_boundary = data[variable].quantile(0.25) - (IQR*distance)\n",
    "    upper_boundary = data[variable].quantile(0.75) + (IQR*distance)\n",
    "    return upper_boundary,lower_boundary "
   ]
  },
  {
   "cell_type": "code",
   "execution_count": 57,
   "id": "06e0c0f3",
   "metadata": {},
   "outputs": [
    {
     "data": {
      "text/plain": [
       "(1.25, -0.75)"
      ]
     },
     "execution_count": 57,
     "metadata": {},
     "output_type": "execute_result"
    }
   ],
   "source": [
    "upper_boundary, lower_boundary = find_boundaries(data, 'Rain', 1.5)\n",
    "upper_boundary, lower_boundary"
   ]
  },
  {
   "cell_type": "markdown",
   "id": "91ddfa6d",
   "metadata": {},
   "source": [
    "## Creating depedent and indepedent features"
   ]
  },
  {
   "cell_type": "code",
   "execution_count": 58,
   "id": "b2c4189c",
   "metadata": {},
   "outputs": [],
   "source": [
    "# Independent feature\n",
    "X=pd.DataFrame(data,columns=['RH', 'Ws', 'Rain', 'FFMC', 'DMC', 'DC', 'ISI', 'BUI','FWI', 'Region'])\n",
    "\n",
    "# Dependent Feature\n",
    "Y=pd.DataFrame(data,columns=['Temperature'])\n"
   ]
  },
  {
   "cell_type": "code",
   "execution_count": 60,
   "id": "68d24625",
   "metadata": {},
   "outputs": [
    {
     "data": {
      "text/html": [
       "<div>\n",
       "<style scoped>\n",
       "    .dataframe tbody tr th:only-of-type {\n",
       "        vertical-align: middle;\n",
       "    }\n",
       "\n",
       "    .dataframe tbody tr th {\n",
       "        vertical-align: top;\n",
       "    }\n",
       "\n",
       "    .dataframe thead th {\n",
       "        text-align: right;\n",
       "    }\n",
       "</style>\n",
       "<table border=\"1\" class=\"dataframe\">\n",
       "  <thead>\n",
       "    <tr style=\"text-align: right;\">\n",
       "      <th></th>\n",
       "      <th>RH</th>\n",
       "      <th>Ws</th>\n",
       "      <th>Rain</th>\n",
       "      <th>FFMC</th>\n",
       "      <th>DMC</th>\n",
       "      <th>DC</th>\n",
       "      <th>ISI</th>\n",
       "      <th>BUI</th>\n",
       "      <th>FWI</th>\n",
       "      <th>Region</th>\n",
       "    </tr>\n",
       "  </thead>\n",
       "  <tbody>\n",
       "    <tr>\n",
       "      <th>0</th>\n",
       "      <td>57</td>\n",
       "      <td>18</td>\n",
       "      <td>0.0</td>\n",
       "      <td>65.7</td>\n",
       "      <td>3.4</td>\n",
       "      <td>7.6</td>\n",
       "      <td>1.3</td>\n",
       "      <td>3.4</td>\n",
       "      <td>0.5</td>\n",
       "      <td>0</td>\n",
       "    </tr>\n",
       "    <tr>\n",
       "      <th>1</th>\n",
       "      <td>61</td>\n",
       "      <td>13</td>\n",
       "      <td>1.3</td>\n",
       "      <td>64.4</td>\n",
       "      <td>4.1</td>\n",
       "      <td>7.6</td>\n",
       "      <td>1.0</td>\n",
       "      <td>3.9</td>\n",
       "      <td>0.4</td>\n",
       "      <td>0</td>\n",
       "    </tr>\n",
       "    <tr>\n",
       "      <th>2</th>\n",
       "      <td>82</td>\n",
       "      <td>22</td>\n",
       "      <td>13.1</td>\n",
       "      <td>47.1</td>\n",
       "      <td>2.5</td>\n",
       "      <td>7.1</td>\n",
       "      <td>0.3</td>\n",
       "      <td>2.7</td>\n",
       "      <td>0.1</td>\n",
       "      <td>0</td>\n",
       "    </tr>\n",
       "    <tr>\n",
       "      <th>3</th>\n",
       "      <td>89</td>\n",
       "      <td>13</td>\n",
       "      <td>2.5</td>\n",
       "      <td>28.6</td>\n",
       "      <td>1.3</td>\n",
       "      <td>6.9</td>\n",
       "      <td>0.0</td>\n",
       "      <td>1.7</td>\n",
       "      <td>0</td>\n",
       "      <td>0</td>\n",
       "    </tr>\n",
       "    <tr>\n",
       "      <th>4</th>\n",
       "      <td>77</td>\n",
       "      <td>16</td>\n",
       "      <td>0.0</td>\n",
       "      <td>64.8</td>\n",
       "      <td>3.0</td>\n",
       "      <td>14.2</td>\n",
       "      <td>1.2</td>\n",
       "      <td>3.9</td>\n",
       "      <td>0.5</td>\n",
       "      <td>0</td>\n",
       "    </tr>\n",
       "    <tr>\n",
       "      <th>...</th>\n",
       "      <td>...</td>\n",
       "      <td>...</td>\n",
       "      <td>...</td>\n",
       "      <td>...</td>\n",
       "      <td>...</td>\n",
       "      <td>...</td>\n",
       "      <td>...</td>\n",
       "      <td>...</td>\n",
       "      <td>...</td>\n",
       "      <td>...</td>\n",
       "    </tr>\n",
       "    <tr>\n",
       "      <th>242</th>\n",
       "      <td>65</td>\n",
       "      <td>14</td>\n",
       "      <td>0.0</td>\n",
       "      <td>85.4</td>\n",
       "      <td>16.0</td>\n",
       "      <td>44.5</td>\n",
       "      <td>4.5</td>\n",
       "      <td>16.9</td>\n",
       "      <td>6.5</td>\n",
       "      <td>1</td>\n",
       "    </tr>\n",
       "    <tr>\n",
       "      <th>243</th>\n",
       "      <td>87</td>\n",
       "      <td>15</td>\n",
       "      <td>4.4</td>\n",
       "      <td>41.1</td>\n",
       "      <td>6.5</td>\n",
       "      <td>8</td>\n",
       "      <td>0.1</td>\n",
       "      <td>6.2</td>\n",
       "      <td>0</td>\n",
       "      <td>0</td>\n",
       "    </tr>\n",
       "    <tr>\n",
       "      <th>244</th>\n",
       "      <td>87</td>\n",
       "      <td>29</td>\n",
       "      <td>0.5</td>\n",
       "      <td>45.9</td>\n",
       "      <td>3.5</td>\n",
       "      <td>7.9</td>\n",
       "      <td>0.4</td>\n",
       "      <td>3.4</td>\n",
       "      <td>0.2</td>\n",
       "      <td>0</td>\n",
       "    </tr>\n",
       "    <tr>\n",
       "      <th>245</th>\n",
       "      <td>54</td>\n",
       "      <td>18</td>\n",
       "      <td>0.1</td>\n",
       "      <td>79.7</td>\n",
       "      <td>4.3</td>\n",
       "      <td>15.2</td>\n",
       "      <td>1.7</td>\n",
       "      <td>5.1</td>\n",
       "      <td>0.7</td>\n",
       "      <td>0</td>\n",
       "    </tr>\n",
       "    <tr>\n",
       "      <th>246</th>\n",
       "      <td>64</td>\n",
       "      <td>15</td>\n",
       "      <td>0.2</td>\n",
       "      <td>67.3</td>\n",
       "      <td>3.8</td>\n",
       "      <td>16.5</td>\n",
       "      <td>1.2</td>\n",
       "      <td>4.8</td>\n",
       "      <td>0.5</td>\n",
       "      <td>0</td>\n",
       "    </tr>\n",
       "  </tbody>\n",
       "</table>\n",
       "<p>243 rows × 10 columns</p>\n",
       "</div>"
      ],
      "text/plain": [
       "     RH  Ws  Rain  FFMC   DMC    DC  ISI   BUI  FWI  Region\n",
       "0    57  18   0.0  65.7   3.4   7.6  1.3   3.4  0.5       0\n",
       "1    61  13   1.3  64.4   4.1   7.6  1.0   3.9  0.4       0\n",
       "2    82  22  13.1  47.1   2.5   7.1  0.3   2.7  0.1       0\n",
       "3    89  13   2.5  28.6   1.3   6.9  0.0   1.7    0       0\n",
       "4    77  16   0.0  64.8   3.0  14.2  1.2   3.9  0.5       0\n",
       "..   ..  ..   ...   ...   ...   ...  ...   ...  ...     ...\n",
       "242  65  14   0.0  85.4  16.0  44.5  4.5  16.9  6.5       1\n",
       "243  87  15   4.4  41.1   6.5     8  0.1   6.2    0       0\n",
       "244  87  29   0.5  45.9   3.5   7.9  0.4   3.4  0.2       0\n",
       "245  54  18   0.1  79.7   4.3  15.2  1.7   5.1  0.7       0\n",
       "246  64  15   0.2  67.3   3.8  16.5  1.2   4.8  0.5       0\n",
       "\n",
       "[243 rows x 10 columns]"
      ]
     },
     "execution_count": 60,
     "metadata": {},
     "output_type": "execute_result"
    }
   ],
   "source": [
    "X"
   ]
  },
  {
   "cell_type": "code",
   "execution_count": 61,
   "id": "af0991ff",
   "metadata": {},
   "outputs": [
    {
     "data": {
      "text/html": [
       "<div>\n",
       "<style scoped>\n",
       "    .dataframe tbody tr th:only-of-type {\n",
       "        vertical-align: middle;\n",
       "    }\n",
       "\n",
       "    .dataframe tbody tr th {\n",
       "        vertical-align: top;\n",
       "    }\n",
       "\n",
       "    .dataframe thead th {\n",
       "        text-align: right;\n",
       "    }\n",
       "</style>\n",
       "<table border=\"1\" class=\"dataframe\">\n",
       "  <thead>\n",
       "    <tr style=\"text-align: right;\">\n",
       "      <th></th>\n",
       "      <th>Temperature</th>\n",
       "    </tr>\n",
       "  </thead>\n",
       "  <tbody>\n",
       "    <tr>\n",
       "      <th>0</th>\n",
       "      <td>29</td>\n",
       "    </tr>\n",
       "    <tr>\n",
       "      <th>1</th>\n",
       "      <td>29</td>\n",
       "    </tr>\n",
       "    <tr>\n",
       "      <th>2</th>\n",
       "      <td>26</td>\n",
       "    </tr>\n",
       "    <tr>\n",
       "      <th>3</th>\n",
       "      <td>25</td>\n",
       "    </tr>\n",
       "    <tr>\n",
       "      <th>4</th>\n",
       "      <td>27</td>\n",
       "    </tr>\n",
       "    <tr>\n",
       "      <th>...</th>\n",
       "      <td>...</td>\n",
       "    </tr>\n",
       "    <tr>\n",
       "      <th>242</th>\n",
       "      <td>30</td>\n",
       "    </tr>\n",
       "    <tr>\n",
       "      <th>243</th>\n",
       "      <td>28</td>\n",
       "    </tr>\n",
       "    <tr>\n",
       "      <th>244</th>\n",
       "      <td>27</td>\n",
       "    </tr>\n",
       "    <tr>\n",
       "      <th>245</th>\n",
       "      <td>24</td>\n",
       "    </tr>\n",
       "    <tr>\n",
       "      <th>246</th>\n",
       "      <td>24</td>\n",
       "    </tr>\n",
       "  </tbody>\n",
       "</table>\n",
       "<p>243 rows × 1 columns</p>\n",
       "</div>"
      ],
      "text/plain": [
       "     Temperature\n",
       "0             29\n",
       "1             29\n",
       "2             26\n",
       "3             25\n",
       "4             27\n",
       "..           ...\n",
       "242           30\n",
       "243           28\n",
       "244           27\n",
       "245           24\n",
       "246           24\n",
       "\n",
       "[243 rows x 1 columns]"
      ]
     },
     "execution_count": 61,
     "metadata": {},
     "output_type": "execute_result"
    }
   ],
   "source": [
    "Y"
   ]
  },
  {
   "cell_type": "markdown",
   "id": "2288bcd1",
   "metadata": {},
   "source": [
    "## Splitting the dataset for training and testing the model."
   ]
  },
  {
   "cell_type": "code",
   "execution_count": 62,
   "id": "1f625cbd",
   "metadata": {},
   "outputs": [],
   "source": [
    "from sklearn.model_selection import train_test_split"
   ]
  },
  {
   "cell_type": "code",
   "execution_count": 64,
   "id": "5e4f01a1",
   "metadata": {},
   "outputs": [],
   "source": [
    "x_train, x_test, y_train, y_test = train_test_split(\n",
    "X, Y, test_size=0.33, random_state=10)"
   ]
  },
  {
   "cell_type": "code",
   "execution_count": 67,
   "id": "45d9a5e2",
   "metadata": {},
   "outputs": [
    {
     "data": {
      "text/plain": [
       "(162, 10)"
      ]
     },
     "execution_count": 67,
     "metadata": {},
     "output_type": "execute_result"
    }
   ],
   "source": [
    "x_train.shape"
   ]
  },
  {
   "cell_type": "code",
   "execution_count": 68,
   "id": "4332c342",
   "metadata": {},
   "outputs": [
    {
     "data": {
      "text/plain": [
       "(162, 1)"
      ]
     },
     "execution_count": 68,
     "metadata": {},
     "output_type": "execute_result"
    }
   ],
   "source": [
    "y_train.shape"
   ]
  },
  {
   "cell_type": "code",
   "execution_count": 69,
   "id": "7610c6b4",
   "metadata": {},
   "outputs": [
    {
     "data": {
      "text/plain": [
       "(81, 10)"
      ]
     },
     "execution_count": 69,
     "metadata": {},
     "output_type": "execute_result"
    }
   ],
   "source": [
    "x_test.shape"
   ]
  },
  {
   "cell_type": "code",
   "execution_count": 70,
   "id": "2764b1bf",
   "metadata": {},
   "outputs": [
    {
     "data": {
      "text/plain": [
       "(81, 1)"
      ]
     },
     "execution_count": 70,
     "metadata": {},
     "output_type": "execute_result"
    }
   ],
   "source": [
    "y_test.shape"
   ]
  },
  {
   "cell_type": "markdown",
   "id": "df41048b",
   "metadata": {},
   "source": [
    "## Standardize or feature scaling the datasets"
   ]
  },
  {
   "cell_type": "code",
   "execution_count": 71,
   "id": "d6c72b55",
   "metadata": {},
   "outputs": [],
   "source": [
    "from sklearn.preprocessing import StandardScaler\n",
    "scalar=StandardScaler()"
   ]
  },
  {
   "cell_type": "code",
   "execution_count": 73,
   "id": "0750bfd7",
   "metadata": {},
   "outputs": [],
   "source": [
    "x_train=scalar.fit_transform(x_train)"
   ]
  },
  {
   "cell_type": "code",
   "execution_count": 75,
   "id": "566fb58f",
   "metadata": {},
   "outputs": [],
   "source": [
    "x_test=scalar.transform(x_test)"
   ]
  },
  {
   "cell_type": "code",
   "execution_count": 76,
   "id": "1aa486c2",
   "metadata": {},
   "outputs": [
    {
     "data": {
      "text/plain": [
       "array([[ 0.06835876,  0.89673457, -0.42406458, ...,  0.38986031,\n",
       "         0.52024214, -0.9877296 ],\n",
       "       [ 0.99672801, -0.58185068,  0.40434065, ..., -1.0010797 ,\n",
       "        -0.93452011, -0.9877296 ],\n",
       "       [ 0.53254338,  0.52708826, -0.42406458, ...,  2.19373563,\n",
       "         1.30997022,  1.01242284],\n",
       "       ...,\n",
       "       [-2.45150064, -0.95149699, -0.42406458, ...,  0.44781614,\n",
       "         1.72561657,  1.01242284],\n",
       "       [ 0.06835876, -0.58185068, -0.42406458, ..., -0.76925637,\n",
       "        -0.8098262 ,  1.01242284],\n",
       "       [ 1.0630401 , -1.3211433 , -0.42406458, ..., -0.26214282,\n",
       "        -0.82368108, -0.9877296 ]])"
      ]
     },
     "execution_count": 76,
     "metadata": {},
     "output_type": "execute_result"
    }
   ],
   "source": [
    "x_train"
   ]
  },
  {
   "cell_type": "code",
   "execution_count": 77,
   "id": "ad1f7a28",
   "metadata": {},
   "outputs": [
    {
     "data": {
      "text/plain": [
       "array([[-4.14469819, -5.97197799, -0.67499124, -5.07472134, -1.23855901,\n",
       "        -1.02728264, -1.20393232, -1.20181045, -1.01066644, -2.96333935],\n",
       "       [-4.23704135, -5.28878601, -0.67499124, -5.04937065, -1.2234485 ,\n",
       "        -1.02759273, -0.86745531, -1.19498773, -0.8820548 ,  1.0372704 ],\n",
       "       [-4.20626029, -5.6987012 , -0.67499124, -5.04805941, -1.13494406,\n",
       "        -1.01709409, -0.91878231, -1.13515771, -0.82638708,  1.0372704 ],\n",
       "       [-4.09632796, -5.01550922,  1.35576403, -5.22420298, -1.2846101 ,\n",
       "        -1.03897732, -1.36361632, -1.24432126, -1.07785162, -2.96333935],\n",
       "       [-4.10072526, -5.97197799,  0.0252692 , -5.2237659 , -1.29036649,\n",
       "        -1.03902162, -1.36931932, -1.24642056, -1.07785162,  1.0372704 ],\n",
       "       [-4.19746571, -5.6987012 , -0.67499124, -5.05155606, -1.10616213,\n",
       "        -1.01532217, -0.97010931, -1.11468954, -0.83022624,  1.0372704 ],\n",
       "       [-4.18867112, -5.42542441, -0.56995217, -5.09963495, -1.22488759,\n",
       "        -1.02156819, -1.26096232, -1.18606571, -1.0298622 , -2.96333935],\n",
       "       [-4.23264405, -5.6987012 , -0.67499124, -5.0436886 , -1.07090426,\n",
       "        -1.01093666, -0.84464331, -1.08897312, -0.74768444,  1.0372704 ],\n",
       "       [-4.14469819, -5.6987012 , -0.67499124, -5.06073476, -1.21409437,\n",
       "        -1.03104797, -1.07846631, -1.19341326, -0.95115956,  1.0372704 ],\n",
       "       [-4.24583593, -5.97197799, -0.42990009, -5.09788663, -1.25510862,\n",
       "        -1.03849004, -1.28377432, -1.22437792, -1.062495  , -2.96333935],\n",
       "       [-4.19746571, -6.51853157, -0.6049652 , -5.09438998, -1.22848534,\n",
       "        -1.03366156, -1.29518032, -1.20390975, -1.06057543,  1.0372704 ],\n",
       "       [-4.17547924, -5.97197799, -0.67499124, -5.05636395, -1.22776579,\n",
       "        -1.025998  , -1.06706031, -1.19446291, -0.94923998, -2.96333935],\n",
       "       [-4.30300074, -5.6987012 , -0.6049652 , -5.0506819 , -1.18459289,\n",
       "        -1.02240986, -0.95870331, -1.16822167, -0.87821565,  1.0372704 ],\n",
       "       [-4.10512255, -5.8353396 , -0.67499124, -5.06335724, -1.10112529,\n",
       "        -0.98214294, -1.11838732, -1.06378153, -0.8743765 , -2.96333935],\n",
       "       [-4.21945217, -5.56206281, -0.49992613, -5.08608544, -1.15725006,\n",
       "        -0.9762956 , -1.23244732, -1.09946962, -0.96651617,  1.0372704 ],\n",
       "       [-4.21945217, -5.42542441, -0.67499124, -5.04762233, -1.15077412,\n",
       "        -1.00681695, -0.86175231, -1.12466121, -0.7918347 , -2.96333935],\n",
       "       [-4.10072526, -5.6987012 , -0.04475685, -5.22944795, -1.28532965,\n",
       "        -1.03897732, -1.36931932, -1.24432126, -1.07785162, -2.96333935],\n",
       "       [-4.30739804, -5.56206281, -0.67499124, -5.02707953, -1.18315379,\n",
       "        -1.0281686 , -0.40551229, -1.17137062, -0.70545376,  1.0372704 ],\n",
       "       [-4.16668465, -5.97197799, -0.67499124, -5.06729097, -1.21625301,\n",
       "        -1.01833444, -1.15830832, -1.17714369, -0.9722749 , -2.96333935],\n",
       "       [-4.10072526, -5.01550922,  5.20719643, -5.20715683, -1.24359585,\n",
       "        -1.03853434, -1.35221032, -1.21650555, -1.07401246, -2.96333935],\n",
       "       [-4.18427383, -5.42542441, -0.56995217, -5.08608544, -1.2220094 ,\n",
       "        -1.00234284, -1.22674432, -1.16769684, -0.99914898, -2.96333935],\n",
       "       [-4.21505488, -5.97197799,  0.41041244, -5.12848228, -1.22704624,\n",
       "        -1.03835715, -1.31228932, -1.2049594 , -1.06441458,  1.0372704 ],\n",
       "       [-4.17108195, -5.56206281, -0.67499124, -5.05548979, -1.07666065,\n",
       "        -0.97784603, -0.99862431, -1.04383819, -0.77839767, -2.96333935],\n",
       "       [-4.17108195, -6.65516997, -0.25483498, -5.11405862, -1.2220094 ,\n",
       "        -1.03534488, -1.32369532, -1.20023598, -1.06633416,  1.0372704 ],\n",
       "       [-4.1403009 , -5.56206281, -0.56995217, -5.13241601, -1.283171  ,\n",
       "        -1.02905456, -1.30088332, -1.23329994, -1.06825373, -2.96333935],\n",
       "       [-4.17987653, -5.6987012 , -0.67499124, -5.0528673 , -1.18747108,\n",
       "        -1.02710545, -0.98721831, -1.17399474, -0.89741142,  1.0372704 ],\n",
       "       [-4.21505488, -6.38189318, -0.67499124, -5.07821799, -1.26302365,\n",
       "        -1.03516769, -1.24385332, -1.22752687, -1.04713839, -2.96333935],\n",
       "       [-4.19306841, -5.42542441, -0.63997822, -5.09526414, -1.24503495,\n",
       "        -1.03587646, -1.24955632, -1.21650555, -1.04329924,  1.0372704 ],\n",
       "       [-4.17547924, -5.97197799, -0.56995217, -5.10182035, -1.2651823 ,\n",
       "        -1.03795847, -1.28947732, -1.23120064, -1.06441458, -2.96333935],\n",
       "       [-4.23704135, -7.06508516,  0.0252692 , -5.16869372, -1.2205703 ,\n",
       "        -1.02994052, -1.35221032, -1.19761186, -1.07209289,  1.0372704 ],\n",
       "       [-4.21505488, -6.10861639, -0.67499124, -5.05111898, -1.23496127,\n",
       "        -1.02887737, -1.02143631, -1.2028601 , -0.94156168, -2.96333935],\n",
       "       [-4.21065759, -5.97197799, -0.67499124, -5.05986059, -1.24647404,\n",
       "        -1.03423743, -1.10127831, -1.21703037, -0.98571194,  1.0372704 ],\n",
       "       [-4.26342511, -5.8353396 , -0.00974382, -5.07690675, -1.23855901,\n",
       "        -1.03800277, -1.20393232, -1.21283177, -1.02026432,  1.0372704 ],\n",
       "       [-4.17108195, -5.8353396 , -0.67499124, -5.05767519, -1.20402069,\n",
       "        -1.01412612, -1.06135731, -1.16402307, -0.91852676, -2.96333935],\n",
       "       [-4.09193067, -5.01550922, -0.67499124, -5.06554264, -0.96800886,\n",
       "        -0.95370359, -1.13549632, -0.94884491, -0.82638708, -2.96333935],\n",
       "       [-4.10072526, -5.6987012 , -0.53493915, -5.17524993, -1.28173191,\n",
       "        -1.0303835 , -1.33510132, -1.23329994, -1.07209289, -2.96333935],\n",
       "       [-4.22824676, -5.6987012 ,  0.65550359, -5.09788663, -1.24863269,\n",
       "        -1.03817996, -1.27236832, -1.2196545 , -1.0548167 ,  1.0372704 ],\n",
       "       [-4.19306841, -5.6987012 , -0.39488706, -5.11231029, -1.25582817,\n",
       "        -1.03871153, -1.29518032, -1.22490274, -1.06441458,  1.0372704 ],\n",
       "       [-4.21945217, -5.28878601, -0.67499124, -5.04674817, -1.18315379,\n",
       "        -0.9987104 , -0.81612831, -1.13463288, -0.78607597, -2.96333935],\n",
       "       [-4.25463052, -5.97197799, -0.67499124, -5.09220457, -1.27165823,\n",
       "        -1.03786987, -1.27236832, -1.23539924, -1.062495  , -2.96333935],\n",
       "       [-4.21065759, -5.8353396 , -0.67499124, -5.04631109, -1.10256439,\n",
       "        -1.01261999, -0.91307931, -1.11154059, -0.80143259,  1.0372704 ],\n",
       "       [-4.27221969, -5.8353396 , -0.67499124, -5.04587401, -1.21049663,\n",
       "        -1.03242121, -0.90737631, -1.19131396, -0.88781353,  1.0372704 ],\n",
       "       [-4.21065759, -5.97197799, -0.67499124, -5.04805941, -1.17236057,\n",
       "        -1.01270858, -0.96440631, -1.14512938, -0.85710031, -2.96333935],\n",
       "       [-4.27221969, -6.79180837, -0.63997822, -5.06991345, -1.12702903,\n",
       "        -1.00429196, -1.23244732, -1.10839164, -0.9722749 ,  1.0372704 ],\n",
       "       [-4.19306841, -5.56206281, -0.67499124, -5.05461562, -1.1997034 ,\n",
       "        -1.01713839, -0.99292131, -1.16612237, -0.88973311, -2.96333935],\n",
       "       [-4.28980886, -5.97197799, -0.67499124, -5.02445705, -1.04787872,\n",
       "        -1.00393757, -0.4739483 , -1.07165391, -0.57492255,  1.0372704 ],\n",
       "       [-4.20626029, -5.8353396 ,  0.34038639, -5.10968781, -1.25510862,\n",
       "        -1.03817996, -1.29518032, -1.22437792, -1.06441458,  1.0372704 ],\n",
       "       [-4.24143864, -6.10861639, -0.67499124, -5.04194028, -1.14645683,\n",
       "        -0.9943249 , -0.89026731, -1.10576752, -0.78607597, -2.96333935],\n",
       "       [-4.15789007, -5.28878601, -0.67499124, -5.10706532, -1.28532965,\n",
       "        -1.03516769, -1.27236832, -1.23907301, -1.06441458,  1.0372704 ],\n",
       "       [-4.10951984, -5.97197799, -0.67499124, -5.0825888 , -1.26086501,\n",
       "        -1.02839009, -1.23815032, -1.21598072, -1.03754051, -2.96333935],\n",
       "       [-4.15349278, -5.97197799, -0.67499124, -5.06335724, -1.21913121,\n",
       "        -1.02329582, -1.12409032, -1.18554089, -0.9645966 , -2.96333935],\n",
       "       [-4.34697368, -6.65516997, -0.67499124, -5.01702667, -1.08817342,\n",
       "        -1.00854457, -0.4910573 , -1.10051927, -0.61907281,  1.0372704 ],\n",
       "       [-4.15789007, -5.97197799, -0.67499124, -5.0755955 , -1.26446275,\n",
       "        -1.03255411, -1.20963532, -1.22332827, -1.03178178, -2.96333935],\n",
       "       [-4.23704135, -6.38189318, -0.67499124, -5.04587401, -1.23568082,\n",
       "        -1.02772562, -0.99862431, -1.2007608 , -0.9319638 , -2.96333935],\n",
       "       [-4.09193067, -5.8353396 , -0.53493915, -5.24037497, -1.29972062,\n",
       "        -1.03915451, -1.37502232, -1.25271846, -1.07977119, -2.96333935],\n",
       "       [-4.28541157, -5.8353396 , -0.67499124, -5.03407283, -0.93706828,\n",
       "        -0.97696007, -0.6906623 , -0.9719372 , -0.56340509,  1.0372704 ],\n",
       "       [-4.21065759, -5.8353396 , -0.67499124, -5.04718525, -1.15581096,\n",
       "        -1.02320722, -0.93018831, -1.15090245, -0.849422  ,  1.0372704 ],\n",
       "       [-4.19746571, -6.10861639, -0.6049652 , -5.08914501, -1.17164102,\n",
       "        -1.003406  , -1.26666532, -1.13200876, -1.00682728,  1.0372704 ],\n",
       "       [-4.05675232, -5.8353396 , -0.67499124, -5.14465427, -1.25438907,\n",
       "        -1.03587646, -1.31799232, -1.22280345, -1.06825373,  1.0372704 ],\n",
       "       [-4.16668465, -5.8353396 , -0.63997822, -5.08084047, -1.21769211,\n",
       "        -1.01487919, -1.22674432, -1.17346992, -1.00298813, -2.96333935],\n",
       "       [-4.13150631, -5.8353396 , -0.67499124, -5.05811227, -1.11407716,\n",
       "        -0.98612976, -1.06706031, -1.07637733, -0.85134158, -2.96333935],\n",
       "       [-4.18427383, -6.10861639, -0.21982196, -5.15514421, -1.27669507,\n",
       "        -1.03902162, -1.32939832, -1.23959784, -1.07209289, -2.96333935],\n",
       "       [-4.09193067, -4.87887083,  3.91171462, -5.2307592 , -1.28820784,\n",
       "        -1.03924311, -1.36931932, -1.24589574, -1.07785162, -2.96333935],\n",
       "       [-4.28980886, -6.10861639, -0.67499124, -5.0323245 , -1.11047942,\n",
       "        -1.0191761 , -0.7191773 , -1.11783849, -0.7265691 ,  1.0372704 ],\n",
       "       [-4.21505488, -5.97197799, -0.67499124, -5.03888071, -0.83201423,\n",
       "        -0.96384785, -0.81612831, -0.90318515, -0.5787617 ,  1.0372704 ],\n",
       "       [-4.06554691, -6.10861639, -0.67499124, -5.12629688, -1.28748829,\n",
       "        -1.0350348 , -1.31799232, -1.24064749, -1.07017331, -2.96333935],\n",
       "       [-4.16228736, -4.87887083, -0.53493915, -5.13853514, -1.23064398,\n",
       "        -1.01080377, -1.28377432, -1.17924299, -1.03946009, -2.96333935],\n",
       "       [-4.14909548, -5.56206281,  0.97062079, -5.16475999, -1.27813417,\n",
       "        -1.03884443, -1.32369532, -1.24012266, -1.07209289,  1.0372704 ],\n",
       "       [-4.26342511, -5.6987012 , -0.67499124, -5.03800655, -0.97448479,\n",
       "        -0.98138987, -0.7305833 , -0.99660396, -0.60947493,  1.0372704 ],\n",
       "       [-4.11831443, -5.15214762, -0.42990009, -5.16082626, -1.28748829,\n",
       "        -1.03831285, -1.31228932, -1.24432126, -1.07017331, -2.96333935],\n",
       "       [-4.08313608, -5.42542441, -0.67499124, -5.07035053, -1.20905753,\n",
       "        -1.02054934, -1.12979332, -1.17609404, -0.95883787, -2.96333935],\n",
       "       [-4.13150631, -5.8353396 , -0.67499124, -5.05811227, -1.21913121,\n",
       "        -1.02542212, -1.06706031, -1.18921466, -0.94348125, -2.96333935],\n",
       "       [-4.17108195, -5.8353396 , -0.6049652 , -5.14246887, -1.27885372,\n",
       "        -1.03507909, -1.31799232, -1.23487442, -1.07017331, -2.96333935],\n",
       "       [-4.14909548, -6.10861639, -0.42990009, -5.14552844, -1.26302365,\n",
       "        -1.03826855, -1.32369532, -1.22962617, -1.07017331, -2.96333935],\n",
       "       [-4.21945217, -5.6987012 , -0.67499124, -5.04543693, -1.0356464 ,\n",
       "        -0.97084694, -0.79331631, -1.01077423, -0.65170561, -2.96333935],\n",
       "       [-4.15349278, -5.8353396 , -0.67499124, -5.06029767, -1.13422451,\n",
       "        -1.01953048, -1.08987231, -1.13463288, -0.90508972,  1.0372704 ],\n",
       "       [-4.21505488, -6.38189318, -0.63997822, -5.07078761, -1.24575449,\n",
       "        -1.03073789, -1.20963532, -1.2112573 , -1.02026432,  1.0372704 ],\n",
       "       [-4.21505488, -5.42542441, -0.63997822, -5.08827085, -1.27525597,\n",
       "        -1.03565497, -1.28947732, -1.23329994, -1.06633416, -2.96333935],\n",
       "       [-4.28980886, -5.6987012 , -0.67499124, -5.03363574, -0.86511345,\n",
       "        -0.96832195, -0.6393353 , -0.92417814, -0.49813948,  1.0372704 ],\n",
       "       [-4.11391714, -5.01550922, -0.04475685, -5.18093198, -1.29252513,\n",
       "        -1.03866724, -1.32369532, -1.24747021, -1.07401246, -2.96333935],\n",
       "       [-4.21505488, -5.42542441, -0.67499124, -5.04587401, -1.16228689,\n",
       "        -0.99326174, -0.83323731, -1.11573919, -0.77071936, -2.96333935]])"
      ]
     },
     "execution_count": 77,
     "metadata": {},
     "output_type": "execute_result"
    }
   ],
   "source": [
    "x_test"
   ]
  },
  {
   "cell_type": "markdown",
   "id": "f332055a",
   "metadata": {},
   "source": [
    "## Model Training"
   ]
  },
  {
   "cell_type": "code",
   "execution_count": 78,
   "id": "1785f3af",
   "metadata": {},
   "outputs": [],
   "source": [
    "from sklearn.linear_model import LinearRegression"
   ]
  },
  {
   "cell_type": "code",
   "execution_count": 79,
   "id": "ebdaac74",
   "metadata": {},
   "outputs": [],
   "source": [
    "regression=LinearRegression()"
   ]
  },
  {
   "cell_type": "code",
   "execution_count": 80,
   "id": "00b49758",
   "metadata": {},
   "outputs": [
    {
     "data": {
      "text/plain": [
       "LinearRegression()"
      ]
     },
     "execution_count": 80,
     "metadata": {},
     "output_type": "execute_result"
    }
   ],
   "source": [
    "regression"
   ]
  },
  {
   "cell_type": "code",
   "execution_count": 81,
   "id": "a3e7d823",
   "metadata": {},
   "outputs": [
    {
     "data": {
      "text/plain": [
       "LinearRegression()"
      ]
     },
     "execution_count": 81,
     "metadata": {},
     "output_type": "execute_result"
    }
   ],
   "source": [
    "regression.fit(x_train,y_train)"
   ]
  },
  {
   "cell_type": "markdown",
   "id": "72266263",
   "metadata": {},
   "source": [
    "## Print the coefficients and the intercept"
   ]
  },
  {
   "cell_type": "code",
   "execution_count": 83,
   "id": "d444a3d6",
   "metadata": {},
   "outputs": [
    {
     "name": "stdout",
     "output_type": "stream",
     "text": [
      "[[-1.47132466 -0.71533904 -0.24753785  0.93261587  0.10103014  0.34164618\n",
      "   0.28912632  0.26866395 -0.44993476  0.12849147]]\n"
     ]
    }
   ],
   "source": [
    "print(regression.coef_)"
   ]
  },
  {
   "cell_type": "code",
   "execution_count": 84,
   "id": "caa99f09",
   "metadata": {},
   "outputs": [
    {
     "name": "stdout",
     "output_type": "stream",
     "text": [
      "[32.07407407]\n"
     ]
    }
   ],
   "source": [
    "print(regression.intercept_)"
   ]
  },
  {
   "cell_type": "markdown",
   "id": "8121fbb9",
   "metadata": {},
   "source": [
    "## Prediction for the test data"
   ]
  },
  {
   "cell_type": "code",
   "execution_count": 85,
   "id": "2a9e01ac",
   "metadata": {},
   "outputs": [],
   "source": [
    "reg_pred = regression.predict(x_test)"
   ]
  },
  {
   "cell_type": "code",
   "execution_count": 86,
   "id": "65ce7f0a",
   "metadata": {},
   "outputs": [
    {
     "data": {
      "text/plain": [
       "array([[36.80547941],\n",
       "       [37.03299019],\n",
       "       [37.27086826],\n",
       "       [35.3720049 ],\n",
       "       [36.9036643 ],\n",
       "       [37.25056719],\n",
       "       [36.42968234],\n",
       "       [37.32076985],\n",
       "       [37.15002479],\n",
       "       [36.86068322],\n",
       "       [37.74680353],\n",
       "       [36.88332748],\n",
       "       [37.38948703],\n",
       "       [36.68990824],\n",
       "       [37.10736941],\n",
       "       [36.58683005],\n",
       "       [36.20725743],\n",
       "       [37.41710257],\n",
       "       [36.8526135 ],\n",
       "       [34.45433547],\n",
       "       [36.44371746],\n",
       "       [37.09361225],\n",
       "       [36.59954785],\n",
       "       [37.69612626],\n",
       "       [36.41027994],\n",
       "       [37.22057367],\n",
       "       [37.1917574 ],\n",
       "       [36.96584843],\n",
       "       [36.78471087],\n",
       "       [37.96315573],\n",
       "       [37.04996007],\n",
       "       [37.44161801],\n",
       "       [37.22744955],\n",
       "       [36.78035495],\n",
       "       [36.10950941],\n",
       "       [36.39270487],\n",
       "       [36.88655629],\n",
       "       [37.07676151],\n",
       "       [36.49732179],\n",
       "       [36.93846804],\n",
       "       [37.37827734],\n",
       "       [37.47067584],\n",
       "       [36.95444634],\n",
       "       [38.10812543],\n",
       "       [36.62574645],\n",
       "       [37.65711569],\n",
       "       [37.0147469 ],\n",
       "       [37.11213694],\n",
       "       [36.80702105],\n",
       "       [36.74214261],\n",
       "       [36.83906936],\n",
       "       [38.23838532],\n",
       "       [36.82172623],\n",
       "       [37.28584833],\n",
       "       [36.3986528 ],\n",
       "       [37.52329766],\n",
       "       [37.37453582],\n",
       "       [37.47792491],\n",
       "       [37.00992075],\n",
       "       [36.72962158],\n",
       "       [36.73203998],\n",
       "       [36.74712232],\n",
       "       [34.62645716],\n",
       "       [37.72091118],\n",
       "       [37.5172375 ],\n",
       "       [36.71443532],\n",
       "       [35.95759811],\n",
       "       [36.51621225],\n",
       "       [37.38680251],\n",
       "       [36.01454397],\n",
       "       [36.33831282],\n",
       "       [36.71914379],\n",
       "       [36.64421795],\n",
       "       [36.76143641],\n",
       "       [36.79560916],\n",
       "       [37.26488503],\n",
       "       [37.7094952 ],\n",
       "       [36.48200786],\n",
       "       [37.440959  ],\n",
       "       [35.79319655],\n",
       "       [36.5865996 ]])"
      ]
     },
     "execution_count": 86,
     "metadata": {},
     "output_type": "execute_result"
    }
   ],
   "source": [
    "reg_pred"
   ]
  },
  {
   "cell_type": "markdown",
   "id": "d0d28504",
   "metadata": {},
   "source": [
    "### Assumptions of Linear Regression"
   ]
  },
  {
   "cell_type": "code",
   "execution_count": 88,
   "id": "7075c833",
   "metadata": {},
   "outputs": [
    {
     "data": {
      "text/plain": [
       "Text(0, 0.5, 'Test Predicted Data')"
      ]
     },
     "execution_count": 88,
     "metadata": {},
     "output_type": "execute_result"
    },
    {
     "data": {
      "image/png": "[encoded data removed]",
      "text/plain": [
       "<Figure size 432x432 with 1 Axes>"
      ]
     },
     "metadata": {},
     "output_type": "display_data"
    }
   ],
   "source": [
    "plt.scatter(y_test, reg_pred)\n",
    "plt.xlabel(\"Test Truth Data\")\n",
    "plt.ylabel(\"Test Predicted Data\")"
   ]
  },
  {
   "cell_type": "markdown",
   "id": "222e09c0",
   "metadata": {},
   "source": [
    "## Residuals"
   ]
  },
  {
   "cell_type": "code",
   "execution_count": 89,
   "id": "4b9615db",
   "metadata": {},
   "outputs": [],
   "source": [
    "residuals=y_test-reg_pred"
   ]
  },
  {
   "cell_type": "code",
   "execution_count": 90,
   "id": "3ce42922",
   "metadata": {},
   "outputs": [
    {
     "data": {
      "text/html": [
       "<div>\n",
       "<style scoped>\n",
       "    .dataframe tbody tr th:only-of-type {\n",
       "        vertical-align: middle;\n",
       "    }\n",
       "\n",
       "    .dataframe tbody tr th {\n",
       "        vertical-align: top;\n",
       "    }\n",
       "\n",
       "    .dataframe thead th {\n",
       "        text-align: right;\n",
       "    }\n",
       "</style>\n",
       "<table border=\"1\" class=\"dataframe\">\n",
       "  <thead>\n",
       "    <tr style=\"text-align: right;\">\n",
       "      <th></th>\n",
       "      <th>Temperature</th>\n",
       "    </tr>\n",
       "  </thead>\n",
       "  <tbody>\n",
       "    <tr>\n",
       "      <th>46</th>\n",
       "      <td>-7.805479</td>\n",
       "    </tr>\n",
       "    <tr>\n",
       "      <th>229</th>\n",
       "      <td>-8.032990</td>\n",
       "    </tr>\n",
       "    <tr>\n",
       "      <th>184</th>\n",
       "      <td>-1.270868</td>\n",
       "    </tr>\n",
       "    <tr>\n",
       "      <th>116</th>\n",
       "      <td>-9.372005</td>\n",
       "    </tr>\n",
       "    <tr>\n",
       "      <th>127</th>\n",
       "      <td>-7.903664</td>\n",
       "    </tr>\n",
       "    <tr>\n",
       "      <th>...</th>\n",
       "      <td>...</td>\n",
       "    </tr>\n",
       "    <tr>\n",
       "      <th>130</th>\n",
       "      <td>-2.709495</td>\n",
       "    </tr>\n",
       "    <tr>\n",
       "      <th>245</th>\n",
       "      <td>-12.482008</td>\n",
       "    </tr>\n",
       "    <tr>\n",
       "      <th>211</th>\n",
       "      <td>-4.440959</td>\n",
       "    </tr>\n",
       "    <tr>\n",
       "      <th>102</th>\n",
       "      <td>-5.793197</td>\n",
       "    </tr>\n",
       "    <tr>\n",
       "      <th>78</th>\n",
       "      <td>-0.586600</td>\n",
       "    </tr>\n",
       "  </tbody>\n",
       "</table>\n",
       "<p>81 rows × 1 columns</p>\n",
       "</div>"
      ],
      "text/plain": [
       "     Temperature\n",
       "46     -7.805479\n",
       "229    -8.032990\n",
       "184    -1.270868\n",
       "116    -9.372005\n",
       "127    -7.903664\n",
       "..           ...\n",
       "130    -2.709495\n",
       "245   -12.482008\n",
       "211    -4.440959\n",
       "102    -5.793197\n",
       "78     -0.586600\n",
       "\n",
       "[81 rows x 1 columns]"
      ]
     },
     "execution_count": 90,
     "metadata": {},
     "output_type": "execute_result"
    }
   ],
   "source": [
    "residuals"
   ]
  },
  {
   "cell_type": "code",
   "execution_count": 91,
   "id": "850db071",
   "metadata": {},
   "outputs": [
    {
     "data": {
      "text/plain": [
       "<seaborn.axisgrid.FacetGrid at 0x211aa730f10>"
      ]
     },
     "execution_count": 91,
     "metadata": {},
     "output_type": "execute_result"
    },
    {
     "data": {
      "image/png": "[encoded data removed]",
      "text/plain": [
       "<Figure size 461.725x360 with 1 Axes>"
      ]
     },
     "metadata": {},
     "output_type": "display_data"
    }
   ],
   "source": [
    "sns.displot(residuals,kind='kde')"
   ]
  },
  {
   "cell_type": "code",
   "execution_count": 93,
   "id": "b91b650c",
   "metadata": {},
   "outputs": [
    {
     "data": {
      "text/plain": [
       "<matplotlib.collections.PathCollection at 0x211ab7f6bb0>"
      ]
     },
     "execution_count": 93,
     "metadata": {},
     "output_type": "execute_result"
    },
    {
     "data": {
      "image/png": "[encoded data removed]",
      "text/plain": [
       "<Figure size 432x432 with 1 Axes>"
      ]
     },
     "metadata": {},
     "output_type": "display_data"
    }
   ],
   "source": [
    "# Scatter plot with predictions and residual \n",
    "plt.scatter(reg_pred,residuals)"
   ]
  },
  {
   "cell_type": "markdown",
   "id": "10ebea25",
   "metadata": {},
   "source": [
    "## Performance metrics"
   ]
  },
  {
   "cell_type": "code",
   "execution_count": 95,
   "id": "935be811",
   "metadata": {},
   "outputs": [
    {
     "name": "stdout",
     "output_type": "stream",
     "text": [
      "32.884756582524275\n",
      "4.751076743755498\n",
      "5.734523221901213\n"
     ]
    }
   ],
   "source": [
    "## Performance matric\n",
    "from sklearn.metrics import mean_squared_error\n",
    "from sklearn.metrics import mean_absolute_error\n",
    "print(mean_squared_error(y_test,reg_pred))\n",
    "print(mean_absolute_error(y_test,reg_pred))\n",
    "print(np.sqrt(mean_squared_error(y_test,reg_pred)))"
   ]
  },
  {
   "cell_type": "code",
   "execution_count": 97,
   "id": "4ef6c39a",
   "metadata": {},
   "outputs": [
    {
     "data": {
      "text/plain": [
       "-1.3755492814447918"
      ]
     },
     "execution_count": 97,
     "metadata": {},
     "output_type": "execute_result"
    }
   ],
   "source": [
    "# R square and adjusted r square\n",
    "from sklearn.metrics import r2_score\n",
    "score=r2_score(y_test,reg_pred)\n",
    "score"
   ]
  },
  {
   "cell_type": "code",
   "execution_count": 98,
   "id": "5e16792e",
   "metadata": {},
   "outputs": [
    {
     "data": {
      "text/plain": [
       "-1.748849882814688"
      ]
     },
     "execution_count": 98,
     "metadata": {},
     "output_type": "execute_result"
    }
   ],
   "source": [
    "# adjusted r square\n",
    "1-(1-score)*(len(y_test-1))/(len(y_test)-x_test.shape[1]-1)"
   ]
  },
  {
   "cell_type": "markdown",
   "id": "5821860a",
   "metadata": {},
   "source": [
    "## Ridge regression"
   ]
  },
  {
   "cell_type": "code",
   "execution_count": 99,
   "id": "b6544067",
   "metadata": {},
   "outputs": [],
   "source": [
    "from sklearn.linear_model import Ridge\n",
    "ridge=Ridge()"
   ]
  },
  {
   "cell_type": "code",
   "execution_count": 102,
   "id": "30185c27",
   "metadata": {},
   "outputs": [
    {
     "data": {
      "text/plain": [
       "Ridge()"
      ]
     },
     "execution_count": 102,
     "metadata": {},
     "output_type": "execute_result"
    }
   ],
   "source": [
    "ridge.fit(x_train,y_train)"
   ]
  },
  {
   "cell_type": "code",
   "execution_count": 103,
   "id": "712f47ea",
   "metadata": {},
   "outputs": [
    {
     "name": "stdout",
     "output_type": "stream",
     "text": [
      "[[-1.45439696 -0.71415886 -0.24907121  0.93693182  0.12434882  0.34200445\n",
      "   0.23162189  0.19632635 -0.34815191  0.13067317]]\n"
     ]
    }
   ],
   "source": [
    "print(ridge.coef_)"
   ]
  },
  {
   "cell_type": "code",
   "execution_count": 104,
   "id": "690ba826",
   "metadata": {},
   "outputs": [
    {
     "name": "stdout",
     "output_type": "stream",
     "text": [
      "[32.07407407]\n"
     ]
    }
   ],
   "source": [
    "print(ridge.intercept_)"
   ]
  },
  {
   "cell_type": "code",
   "execution_count": 105,
   "id": "679bc16f",
   "metadata": {},
   "outputs": [
    {
     "data": {
      "text/plain": [
       "array([[36.72498823],\n",
       "       [36.95417993],\n",
       "       [37.1984581 ],\n",
       "       [35.29404362],\n",
       "       [36.83561547],\n",
       "       [37.18004276],\n",
       "       [36.34933083],\n",
       "       [37.24983384],\n",
       "       [37.07744826],\n",
       "       [36.77856278],\n",
       "       [37.67386172],\n",
       "       [36.80049654],\n",
       "       [37.31357308],\n",
       "       [36.61248632],\n",
       "       [37.03515191],\n",
       "       [36.50490547],\n",
       "       [36.13085146],\n",
       "       [37.32751722],\n",
       "       [36.77180525],\n",
       "       [34.369147  ],\n",
       "       [36.3634025 ],\n",
       "       [37.02001453],\n",
       "       [36.52337733],\n",
       "       [37.62378629],\n",
       "       [36.33088756],\n",
       "       [37.14687662],\n",
       "       [37.10944675],\n",
       "       [36.89398031],\n",
       "       [36.70437057],\n",
       "       [37.88944942],\n",
       "       [36.96491713],\n",
       "       [37.36635335],\n",
       "       [37.15262501],\n",
       "       [36.69890818],\n",
       "       [36.0339373 ],\n",
       "       [36.31519261],\n",
       "       [36.81205499],\n",
       "       [37.00495062],\n",
       "       [36.41349398],\n",
       "       [36.85635472],\n",
       "       [37.30689927],\n",
       "       [37.39238419],\n",
       "       [36.87225899],\n",
       "       [38.03460187],\n",
       "       [36.54351   ],\n",
       "       [37.5805267 ],\n",
       "       [36.94141433],\n",
       "       [37.03002272],\n",
       "       [36.73576814],\n",
       "       [36.66194983],\n",
       "       [36.75785377],\n",
       "       [38.15769132],\n",
       "       [36.74013736],\n",
       "       [37.19963021],\n",
       "       [36.32334326],\n",
       "       [37.4559175 ],\n",
       "       [37.30085523],\n",
       "       [37.40545563],\n",
       "       [36.94134978],\n",
       "       [36.64937364],\n",
       "       [36.65419481],\n",
       "       [36.66755757],\n",
       "       [34.54514194],\n",
       "       [37.64466937],\n",
       "       [37.45399919],\n",
       "       [36.63706794],\n",
       "       [35.87782765],\n",
       "       [36.4444258 ],\n",
       "       [37.31845557],\n",
       "       [35.93682396],\n",
       "       [36.25936966],\n",
       "       [36.63761897],\n",
       "       [36.56499317],\n",
       "       [36.68229595],\n",
       "       [36.71815807],\n",
       "       [37.19495982],\n",
       "       [37.63588607],\n",
       "       [36.40153092],\n",
       "       [37.37558515],\n",
       "       [35.71541023],\n",
       "       [36.50435744]])"
      ]
     },
     "execution_count": 105,
     "metadata": {},
     "output_type": "execute_result"
    }
   ],
   "source": [
    "rid_pred=ridge.predict(x_test)\n",
    "rid_pred"
   ]
  },
  {
   "cell_type": "code",
   "execution_count": 106,
   "id": "70b0a2a4",
   "metadata": {},
   "outputs": [
    {
     "data": {
      "text/plain": [
       "<matplotlib.collections.PathCollection at 0x211abd28f70>"
      ]
     },
     "execution_count": 106,
     "metadata": {},
     "output_type": "execute_result"
    },
    {
     "data": {
      "image/png": "[encoded data removed]",
      "text/plain": [
       "<Figure size 432x432 with 1 Axes>"
      ]
     },
     "metadata": {},
     "output_type": "display_data"
    }
   ],
   "source": [
    "#Assumption on ridge regression\n",
    "plt.scatter(y_test,rid_pred)"
   ]
  },
  {
   "cell_type": "code",
   "execution_count": 107,
   "id": "88fd4ca0",
   "metadata": {},
   "outputs": [],
   "source": [
    "## residual\n",
    "rid_residual=y_test-rid_pred"
   ]
  },
  {
   "cell_type": "code",
   "execution_count": 108,
   "id": "11e805e9",
   "metadata": {},
   "outputs": [
    {
     "data": {
      "text/plain": [
       "<seaborn.axisgrid.FacetGrid at 0x211aaff84f0>"
      ]
     },
     "execution_count": 108,
     "metadata": {},
     "output_type": "execute_result"
    },
    {
     "data": {
      "image/png": "[encoded data removed]",
      "text/plain": [
       "<Figure size 461.725x360 with 1 Axes>"
      ]
     },
     "metadata": {},
     "output_type": "display_data"
    }
   ],
   "source": [
    "sns.displot(rid_residual,kind=\"kde\")"
   ]
  },
  {
   "cell_type": "code",
   "execution_count": 109,
   "id": "55915d79",
   "metadata": {},
   "outputs": [
    {
     "data": {
      "text/plain": [
       "<matplotlib.collections.PathCollection at 0x211abd9bca0>"
      ]
     },
     "execution_count": 109,
     "metadata": {},
     "output_type": "execute_result"
    },
    {
     "data": {
      "image/png": "[encoded data removed]",
      "text/plain": [
       "<Figure size 432x432 with 1 Axes>"
      ]
     },
     "metadata": {},
     "output_type": "display_data"
    }
   ],
   "source": [
    "##scatter plot with prediction and residuals\n",
    "## uniform distribution\n",
    "plt.scatter(rid_pred,rid_residual)"
   ]
  },
  {
   "cell_type": "markdown",
   "id": "3c17a45f",
   "metadata": {},
   "source": [
    "## Performance metrics"
   ]
  },
  {
   "cell_type": "code",
   "execution_count": 111,
   "id": "a0a532e8",
   "metadata": {},
   "outputs": [
    {
     "name": "stdout",
     "output_type": "stream",
     "text": [
      "32.1844841525888\n",
      "4.680122998377764\n",
      "5.673137064498689\n"
     ]
    }
   ],
   "source": [
    "## Performance matric\n",
    "from sklearn.metrics import mean_squared_error\n",
    "from sklearn.metrics import mean_absolute_error\n",
    "print(mean_squared_error(y_test,rid_pred))\n",
    "print(mean_absolute_error(y_test,rid_pred))\n",
    "print(np.sqrt(mean_squared_error(y_test,rid_pred)))"
   ]
  },
  {
   "cell_type": "code",
   "execution_count": 112,
   "id": "01b88cb5",
   "metadata": {},
   "outputs": [
    {
     "data": {
      "text/plain": [
       "-1.3249625707427017"
      ]
     },
     "execution_count": 112,
     "metadata": {},
     "output_type": "execute_result"
    }
   ],
   "source": [
    "# R square and adjusted r square\n",
    "from sklearn.metrics import r2_score\n",
    "rid_score=r2_score(y_test,rid_pred)\n",
    "rid_score"
   ]
  },
  {
   "cell_type": "code",
   "execution_count": 113,
   "id": "e11c0245",
   "metadata": {},
   "outputs": [
    {
     "data": {
      "text/plain": [
       "-1.6903138318594118"
      ]
     },
     "execution_count": 113,
     "metadata": {},
     "output_type": "execute_result"
    }
   ],
   "source": [
    "# adjusted r square\n",
    "1-(1-rid_score)*(len(y_test-1))/(len(y_test)-x_test.shape[1]-1)"
   ]
  },
  {
   "cell_type": "markdown",
   "id": "8945b28e",
   "metadata": {},
   "source": [
    "## Lasso Regression"
   ]
  },
  {
   "cell_type": "code",
   "execution_count": 114,
   "id": "92b643ae",
   "metadata": {},
   "outputs": [],
   "source": [
    "from sklearn.linear_model import Lasso\n",
    "lasso=Lasso()"
   ]
  },
  {
   "cell_type": "code",
   "execution_count": 115,
   "id": "790b4deb",
   "metadata": {},
   "outputs": [
    {
     "data": {
      "text/plain": [
       "Lasso()"
      ]
     },
     "execution_count": 115,
     "metadata": {},
     "output_type": "execute_result"
    }
   ],
   "source": [
    "lasso.fit(x_train,y_train)"
   ]
  },
  {
   "cell_type": "code",
   "execution_count": 116,
   "id": "b5c6defb",
   "metadata": {},
   "outputs": [
    {
     "name": "stdout",
     "output_type": "stream",
     "text": [
      "[-0.88423537 -0.         -0.          0.88313134  0.          0.\n",
      "  0.          0.          0.          0.        ]\n"
     ]
    }
   ],
   "source": [
    "print(lasso.coef_)"
   ]
  },
  {
   "cell_type": "code",
   "execution_count": 118,
   "id": "9d8bf738",
   "metadata": {},
   "outputs": [
    {
     "name": "stdout",
     "output_type": "stream",
     "text": [
      "[32.07407407]\n"
     ]
    }
   ],
   "source": [
    "print(lasso.intercept_)"
   ]
  },
  {
   "cell_type": "code",
   "execution_count": 119,
   "id": "13582de3",
   "metadata": {},
   "outputs": [
    {
     "data": {
      "text/plain": [
       "array([31.25731733, 31.3613584 , 31.33529871, 31.08253474, 31.08680898,\n",
       "       31.32443422, 31.27419776, 31.36248816, 31.26966932, 31.32628891,\n",
       "       31.28660625, 31.30074702, 31.41852403, 31.23235914, 31.31338145,\n",
       "       31.34734943, 31.08179099, 31.44325626, 31.28332054, 31.10147698,\n",
       "       31.28227551, 31.27205123, 31.29763077, 31.2459068 , 31.20247712,\n",
       "       31.30772326, 31.31644121, 31.281946  , 31.26060304, 31.25598046,\n",
       "       31.34037319, 31.32876495, 31.36036987, 31.29570077, 31.21876442,\n",
       "       31.12965496, 31.31073594, 31.26689201, 31.34812143, 31.33908339,\n",
       "       31.34073095, 31.39555234, 31.33918695, 31.37432235, 31.31784398,\n",
       "       31.43001929, 31.28087274, 31.37180864, 31.24041807, 31.2192634 ,\n",
       "       31.27512981, 31.48712844, 31.26821006, 31.3644464 , 31.06436451,\n",
       "       31.41763906, 31.33995895, 31.29123824, 31.11779252, 31.27135454,\n",
       "       31.26032059, 31.22128755, 31.0728565 , 31.4230713 , 31.35118119,\n",
       "       31.141781  , 31.21651433, 31.18168962, 31.39472385, 31.15794592,\n",
       "       31.20674194, 31.26032059, 31.22081682, 31.19867361, 31.34927943,\n",
       "       31.27783181, 31.3230032 , 31.30756321, 31.4219133 , 31.13630169,\n",
       "       31.34500519])"
      ]
     },
     "execution_count": 119,
     "metadata": {},
     "output_type": "execute_result"
    }
   ],
   "source": [
    "las_pred=lasso.predict(x_test)\n",
    "las_pred"
   ]
  },
  {
   "cell_type": "code",
   "execution_count": 120,
   "id": "0da9dc60",
   "metadata": {},
   "outputs": [
    {
     "data": {
      "text/plain": [
       "<matplotlib.collections.PathCollection at 0x211ace1e7c0>"
      ]
     },
     "execution_count": 120,
     "metadata": {},
     "output_type": "execute_result"
    },
    {
     "data": {
      "image/png": "[encoded data removed]",
      "text/plain": [
       "<Figure size 432x432 with 1 Axes>"
      ]
     },
     "metadata": {},
     "output_type": "display_data"
    }
   ],
   "source": [
    "#Assumption on ridge regression\n",
    "plt.scatter(y_test,las_pred)"
   ]
  },
  {
   "cell_type": "markdown",
   "id": "b8bea1f1",
   "metadata": {},
   "source": [
    "## Performance metrics on Lasso Regression"
   ]
  },
  {
   "cell_type": "code",
   "execution_count": 121,
   "id": "0c24c0cf",
   "metadata": {},
   "outputs": [
    {
     "name": "stdout",
     "output_type": "stream",
     "text": [
      "14.435192775924262\n",
      "3.1542898946813307\n",
      "3.7993674178636976\n"
     ]
    }
   ],
   "source": [
    "## Performance matric\n",
    "from sklearn.metrics import mean_squared_error\n",
    "from sklearn.metrics import mean_absolute_error\n",
    "print(mean_squared_error(y_test,las_pred))\n",
    "print(mean_absolute_error(y_test,las_pred))\n",
    "print(np.sqrt(mean_squared_error(y_test,las_pred)))"
   ]
  },
  {
   "cell_type": "code",
   "execution_count": 123,
   "id": "38c984c3",
   "metadata": {},
   "outputs": [
    {
     "data": {
      "text/plain": [
       "-0.042778338355931256"
      ]
     },
     "execution_count": 123,
     "metadata": {},
     "output_type": "execute_result"
    }
   ],
   "source": [
    "# R square and adjusted r square\n",
    "from sklearn.metrics import r2_score\n",
    "Las_score=r2_score(y_test,las_pred)\n",
    "Las_score"
   ]
  },
  {
   "cell_type": "code",
   "execution_count": 124,
   "id": "b540e41a",
   "metadata": {},
   "outputs": [
    {
     "data": {
      "text/plain": [
       "-0.2066435058118632"
      ]
     },
     "execution_count": 124,
     "metadata": {},
     "output_type": "execute_result"
    }
   ],
   "source": [
    "# adjusted r square\n",
    "1-(1-Las_score)*(len(y_test-1))/(len(y_test)-x_test.shape[1]-1)"
   ]
  },
  {
   "cell_type": "markdown",
   "id": "1dc17e41",
   "metadata": {},
   "source": [
    "## Elastic Net"
   ]
  },
  {
   "cell_type": "code",
   "execution_count": 125,
   "id": "d621731d",
   "metadata": {},
   "outputs": [],
   "source": [
    "from sklearn.linear_model import ElasticNet"
   ]
  },
  {
   "cell_type": "code",
   "execution_count": 126,
   "id": "53e376a8",
   "metadata": {},
   "outputs": [],
   "source": [
    "elas=ElasticNet()"
   ]
  },
  {
   "cell_type": "code",
   "execution_count": 127,
   "id": "ba73e75d",
   "metadata": {},
   "outputs": [
    {
     "data": {
      "text/plain": [
       "ElasticNet()"
      ]
     },
     "execution_count": 127,
     "metadata": {},
     "output_type": "execute_result"
    }
   ],
   "source": [
    "elas.fit(x_train,y_train)"
   ]
  },
  {
   "cell_type": "code",
   "execution_count": 129,
   "id": "87ee9306",
   "metadata": {},
   "outputs": [
    {
     "name": "stdout",
     "output_type": "stream",
     "text": [
      "[-0.77155493 -0.27327033 -0.02945645  0.70980198  0.11177449  0.\n",
      "  0.20914599  0.04593431  0.12829249  0.        ]\n"
     ]
    }
   ],
   "source": [
    "print(elas.coef_)"
   ]
  },
  {
   "cell_type": "code",
   "execution_count": 130,
   "id": "87d06cd6",
   "metadata": {},
   "outputs": [
    {
     "name": "stdout",
     "output_type": "stream",
     "text": [
      "[32.07407407]\n"
     ]
    }
   ],
   "source": [
    "print(elas.intercept_)"
   ]
  },
  {
   "cell_type": "code",
   "execution_count": 131,
   "id": "278ee00e",
   "metadata": {},
   "outputs": [
    {
     "data": {
      "text/plain": [
       "array([32.74663416, 32.73805494, 32.83630175, 32.23290147, 32.53523804,\n",
       "       32.81996422, 32.59828808, 32.89464298, 32.71887866, 32.7747709 ,\n",
       "       32.89622296, 32.82146424, 32.88495138, 32.74390464, 32.69255982,\n",
       "       32.78718497, 32.45924861, 33.00769858, 32.78696573, 32.14368418,\n",
       "       32.61677509, 32.70237072, 32.76671375, 32.88312123, 32.55308002,\n",
       "       32.78145244, 32.89350975, 32.60385741, 32.71894172, 32.99257799,\n",
       "       32.90239828, 32.83116097, 32.77801465, 32.78898691, 32.53087682,\n",
       "       32.52096126, 32.65886071, 32.6453738 , 32.75666985, 32.79283849,\n",
       "       32.88737297, 32.90956409, 32.89625033, 33.08715948, 32.75183718,\n",
       "       33.13014045, 32.67319871, 32.9910034 , 32.51901051, 32.70015935,\n",
       "       32.78701384, 33.35114417, 32.74840645, 33.00378175, 32.49305204,\n",
       "       33.05570212, 32.86925786, 32.81044394, 32.55782443, 32.72073219,\n",
       "       32.77964782, 32.70389653, 32.11055943, 33.08203294, 33.02203423,\n",
       "       32.64755292, 32.39359949, 32.48651391, 32.97903197, 32.39618689,\n",
       "       32.57951501, 32.75090153, 32.64198924, 32.69319314, 32.9138049 ,\n",
       "       32.77846597, 32.91103437, 32.61033113, 33.05141031, 32.3262532 ,\n",
       "       32.79282891])"
      ]
     },
     "execution_count": 131,
     "metadata": {},
     "output_type": "execute_result"
    }
   ],
   "source": [
    "elas_pred=elas.predict(x_test)\n",
    "elas_pred"
   ]
  },
  {
   "cell_type": "code",
   "execution_count": 132,
   "id": "a9ae9da9",
   "metadata": {},
   "outputs": [
    {
     "data": {
      "text/plain": [
       "<matplotlib.collections.PathCollection at 0x211acd7f910>"
      ]
     },
     "execution_count": 132,
     "metadata": {},
     "output_type": "execute_result"
    },
    {
     "data": {
      "image/png": "[encoded data removed]",
      "text/plain": [
       "<Figure size 432x432 with 1 Axes>"
      ]
     },
     "metadata": {},
     "output_type": "display_data"
    }
   ],
   "source": [
    "#Assumption on ridge regression\n",
    "plt.scatter(y_test,elas_pred)"
   ]
  },
  {
   "cell_type": "markdown",
   "id": "02f22238",
   "metadata": {},
   "source": [
    "## Performance metrics"
   ]
  },
  {
   "cell_type": "code",
   "execution_count": 133,
   "id": "17aacb9a",
   "metadata": {},
   "outputs": [
    {
     "name": "stdout",
     "output_type": "stream",
     "text": [
      "13.07379348643209\n",
      "2.963852314149394\n",
      "3.615770109732101\n"
     ]
    }
   ],
   "source": [
    "## Performance matric\n",
    "from sklearn.metrics import mean_squared_error\n",
    "from sklearn.metrics import mean_absolute_error\n",
    "print(mean_squared_error(y_test,elas_pred))\n",
    "print(mean_absolute_error(y_test,elas_pred))\n",
    "print(np.sqrt(mean_squared_error(y_test,elas_pred)))"
   ]
  },
  {
   "cell_type": "code",
   "execution_count": 134,
   "id": "2f15bb38",
   "metadata": {},
   "outputs": [
    {
     "data": {
      "text/plain": [
       "-0.042778338355931256"
      ]
     },
     "execution_count": 134,
     "metadata": {},
     "output_type": "execute_result"
    }
   ],
   "source": [
    "# R square and adjusted r square\n",
    "from sklearn.metrics import r2_score\n",
    "elas_score=r2_score(y_test,las_pred)\n",
    "elas_score"
   ]
  },
  {
   "cell_type": "code",
   "execution_count": 135,
   "id": "3556dda4",
   "metadata": {},
   "outputs": [
    {
     "data": {
      "text/plain": [
       "-0.2066435058118632"
      ]
     },
     "execution_count": 135,
     "metadata": {},
     "output_type": "execute_result"
    }
   ],
   "source": [
    "# adjusted r square\n",
    "1-(1-elas_score)*(len(y_test-1))/(len(y_test)-x_test.shape[1]-1)"
   ]
  },
  {
   "cell_type": "code",
   "execution_count": null,
   "id": "c0893119",
   "metadata": {},
   "outputs": [],
   "source": []
  }
 ],
 "metadata": {
  "kernelspec": {
   "display_name": "Python 3 (ipykernel)",
   "language": "python",
   "name": "python3"
  },
  "language_info": {
   "codemirror_mode": {
    "name": "ipython",
    "version": 3
   },
   "file_extension": ".py",
   "mimetype": "text/x-python",
   "name": "python",
   "nbconvert_exporter": "python",
   "pygments_lexer": "ipython3",
   "version": "3.9.12"
  }
 },
 "nbformat": 4,
 "nbformat_minor": 5
}
